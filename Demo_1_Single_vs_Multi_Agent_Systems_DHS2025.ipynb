{
  "cells": [
    {
      "cell_type": "markdown",
      "metadata": {
        "id": "view-in-github",
        "colab_type": "text"
      },
      "source": [
        "<a href=\"https://colab.research.google.com/github/dipanjanS/building-effective-agentic-ai-systems-dhs2025/blob/main/Demo_1_Single_vs_Multi_Agent_Systems_DHS2025.ipynb\" target=\"_parent\"><img src=\"https://colab.research.google.com/assets/colab-badge.svg\" alt=\"Open In Colab\"/></a>"
      ]
    },
    {
      "cell_type": "markdown",
      "source": [
        "# Single vs. Multi-Agent Systems for Utilization Review\n",
        "\n",
        "![](https://i.imgur.com/44rj36e.png)\n",
        "\n",
        "### What is a utilization review?\n",
        "\n",
        "A utilization review is a process in which a patient's care plan undergoes evaluation, typically for inpatient services on a case-by-case basis.\n",
        "\n",
        "The **review determines the medical necessity of procedures and might make recommendations for alternative care or treatment**. Hospitals usually employ a utilization review (UR) healthcare professional who communicates with the insurance company to evaluate the criteria needed to approve surgeries or treatments."
      ],
      "metadata": {
        "id": "JvhQHf8ckgLY"
      },
      "id": "JvhQHf8ckgLY"
    },
    {
      "cell_type": "markdown",
      "id": "cf3e7897",
      "metadata": {
        "id": "cf3e7897"
      },
      "source": [
        "## Install OpenAI, LangGraph and LangChain dependencies"
      ]
    },
    {
      "cell_type": "code",
      "execution_count": null,
      "id": "50d1bc2d",
      "metadata": {
        "colab": {
          "base_uri": "https://localhost:8080/"
        },
        "id": "50d1bc2d",
        "outputId": "aba7b3e2-7856-4dec-836d-58fc1a353e8a"
      },
      "outputs": [
        {
          "output_type": "stream",
          "name": "stdout",
          "text": [
            "\u001b[2K     \u001b[90m━━━━━━━━━━━━━━━━━━━━━━━━━━━━━━━━━━━━━━━━\u001b[0m \u001b[32m43.7/43.7 kB\u001b[0m \u001b[31m2.9 MB/s\u001b[0m eta \u001b[36m0:00:00\u001b[0m\n",
            "\u001b[2K   \u001b[90m━━━━━━━━━━━━━━━━━━━━━━━━━━━━━━━━━━━━━━━━\u001b[0m \u001b[32m2.5/2.5 MB\u001b[0m \u001b[31m10.0 MB/s\u001b[0m eta \u001b[36m0:00:00\u001b[0m\n",
            "\u001b[2K   \u001b[90m━━━━━━━━━━━━━━━━━━━━━━━━━━━━━━━━━━━━━━━━\u001b[0m \u001b[32m74.4/74.4 kB\u001b[0m \u001b[31m3.1 MB/s\u001b[0m eta \u001b[36m0:00:00\u001b[0m\n",
            "\u001b[2K   \u001b[90m━━━━━━━━━━━━━━━━━━━━━━━━━━━━━━━━━━━━━━━━\u001b[0m \u001b[32m153.2/153.2 kB\u001b[0m \u001b[31m3.6 MB/s\u001b[0m eta \u001b[36m0:00:00\u001b[0m\n",
            "\u001b[2K   \u001b[90m━━━━━━━━━━━━━━━━━━━━━━━━━━━━━━━━━━━━━━━━\u001b[0m \u001b[32m43.9/43.9 kB\u001b[0m \u001b[31m2.1 MB/s\u001b[0m eta \u001b[36m0:00:00\u001b[0m\n",
            "\u001b[2K   \u001b[90m━━━━━━━━━━━━━━━━━━━━━━━━━━━━━━━━━━━━━━━━\u001b[0m \u001b[32m52.0/52.0 kB\u001b[0m \u001b[31m2.4 MB/s\u001b[0m eta \u001b[36m0:00:00\u001b[0m\n",
            "\u001b[2K   \u001b[90m━━━━━━━━━━━━━━━━━━━━━━━━━━━━━━━━━━━━━━━━\u001b[0m \u001b[32m45.2/45.2 kB\u001b[0m \u001b[31m1.3 MB/s\u001b[0m eta \u001b[36m0:00:00\u001b[0m\n",
            "\u001b[2K   \u001b[90m━━━━━━━━━━━━━━━━━━━━━━━━━━━━━━━━━━━━━━━━\u001b[0m \u001b[32m50.9/50.9 kB\u001b[0m \u001b[31m2.6 MB/s\u001b[0m eta \u001b[36m0:00:00\u001b[0m\n",
            "\u001b[2K   \u001b[90m━━━━━━━━━━━━━━━━━━━━━━━━━━━━━━━━━━━━━━━━\u001b[0m \u001b[32m216.5/216.5 kB\u001b[0m \u001b[31m5.5 MB/s\u001b[0m eta \u001b[36m0:00:00\u001b[0m\n",
            "\u001b[?25h"
          ]
        }
      ],
      "source": [
        "!pip install langchain==0.3.27 langchain-community==0.3.27 langchain-openai==0.3.30 langgraph==0.6.5 --quiet"
      ]
    },
    {
      "cell_type": "markdown",
      "metadata": {
        "id": "j7ytgT0Taut7"
      },
      "source": [
        "## Configure API Keys & Environment\n",
        "\n",
        "Set your OpenAI API key for `ChatOpenAI` and set it in the environment"
      ],
      "id": "j7ytgT0Taut7"
    },
    {
      "cell_type": "code",
      "execution_count": null,
      "metadata": {
        "id": "apikey",
        "colab": {
          "base_uri": "https://localhost:8080/"
        },
        "outputId": "1843ca3e-24ab-4615-fa37-1fa50970e14b"
      },
      "outputs": [
        {
          "name": "stdout",
          "output_type": "stream",
          "text": [
            "Enter your OpenAI API key (https://platform.openai.com/account/api-keys):\n",
            "··········\n"
          ]
        }
      ],
      "source": [
        "import os\n",
        "import getpass\n",
        "\n",
        "# OpenAI API Key (for chat & embeddings)\n",
        "if not os.environ.get(\"OPENAI_API_KEY\"):\n",
        "    os.environ[\"OPENAI_API_KEY\"] = getpass.getpass(\"Enter your OpenAI API key (https://platform.openai.com/account/api-keys):\\n\")\n"
      ],
      "id": "apikey"
    },
    {
      "cell_type": "markdown",
      "id": "89017a71",
      "metadata": {
        "id": "89017a71"
      },
      "source": [
        "## Imports"
      ]
    },
    {
      "cell_type": "code",
      "execution_count": null,
      "id": "a271416d",
      "metadata": {
        "id": "a271416d"
      },
      "outputs": [],
      "source": [
        "from typing import Annotated, Literal\n",
        "from typing_extensions import TypedDict\n",
        "from langgraph.graph.message import add_messages\n",
        "from langgraph.graph import StateGraph, START, END\n",
        "from langgraph.types import Command\n",
        "from langchain_openai import ChatOpenAI\n",
        "from langchain_core.tools import tool\n",
        "from langchain_core.messages import HumanMessage, SystemMessage, AIMessage\n",
        "from langgraph.prebuilt import create_react_agent\n",
        "from IPython.display import display, Markdown"
      ]
    },
    {
      "cell_type": "markdown",
      "metadata": {
        "id": "3EHVBxMNaut8"
      },
      "source": [
        "## Sample Data (Guidelines, Care Plans, Patient Records)\n",
        "\n",
        "This notebook uses **in-memory** Python lists to keep the demo self-contained.  \n",
        "You can later swap these out for a database or API without changing the agent’s logic.\n",
        "\n",
        "### What’s included\n",
        "- **`medical_guidelines`** — evidence-style rules the agent can match against.\n",
        "  - Fields: `procedure`, `diagnosis`, `required_symptoms` (list), `notes` (free text).\n",
        "  - Example:\n",
        "    ```python\n",
        "    {\n",
        "      \"procedure\": \"CT Abdomen\",\n",
        "      \"diagnosis\": \"Suspected Appendicitis\",\n",
        "      \"required_symptoms\": [\"abdominal pain\", \"nausea\", \"RLQ tenderness\"],\n",
        "      \"notes\": \"CT imaging justified if appendicitis is unclear.\"\n",
        "    }\n",
        "    ```\n",
        "- **`care_recommendations`** — next-step suggestions keyed by diagnosis.\n",
        "  - Fields: `diagnosis`, `next_step`.\n",
        "  - Example:\n",
        "    ```python\n",
        "    {\n",
        "      \"diagnosis\": \"Community-Acquired Pneumonia\",\n",
        "      \"next_step\": \"Start empirical antibiotics; reserve CT for poor responders.\"\n",
        "    }\n",
        "    ```\n",
        "- **`patient_records`** — patient data including what **procedure** has been recommended to them based on their **diagnosis**.\n",
        "  - Fields: `patient_id`, `age`, `sex`, `symptoms` (list), `diagnosis`, `procedure`, `notes`.\n",
        "  - Example:\n",
        "    ```python\n",
        "    {\n",
        "      \"patient_id\": \"P101\",\n",
        "      \"age\": 38,\n",
        "      \"sex\": \"Male\",\n",
        "      \"symptoms\": [\"abdominal pain\", \"nausea\"],\n",
        "      \"diagnosis\": \"Possible early appendicitis\",\n",
        "      \"procedure\": \"CT Abdomen\",\n",
        "      \"notes\": \"Mild abdominal pain and nausea but no localized tenderness or rebound noted.\"\n",
        "    }\n",
        "    ```\n",
        "\n",
        "### How the agent uses these\n",
        "- **Guideline matching**: `procedure` + `diagnosis` → pick the closest entry in `medical_guidelines`.\n",
        "- **Validity check**: compare `patient_records[*].symptoms` vs. `required_symptoms` and read `notes`.\n",
        "- **Care plan**: map `diagnosis` → `care_recommendations[*].next_step`."
      ],
      "id": "3EHVBxMNaut8"
    },
    {
      "cell_type": "code",
      "source": [
        "medical_guidelines = [\n",
        "    {\"procedure\": \"MRI Brain\", \"diagnosis\": \"Migraine\", \"required_symptoms\": [\"headache\", \"nausea\"],\n",
        "     \"notes\": \"MRI not recommended unless neurological deficits or red flags present.\"},\n",
        "    {\"procedure\": \"CT Chest\", \"diagnosis\": \"Suspected Pulmonary Embolism\", \"required_symptoms\": [\"chest pain\", \"shortness of breath\", \"tachycardia\"],\n",
        "     \"notes\": \"CTPA appropriate for high probability PE cases with positive D-dimer.\"},\n",
        "    {\"procedure\": \"MRI Lumbar Spine\", \"diagnosis\": \"Chronic Low Back Pain\", \"required_symptoms\": [\"back pain > 6 weeks\", \"neurological deficit\"],\n",
        "     \"notes\": \"MRI only if pain persists despite conservative therapy and neuro signs are present.\"},\n",
        "    {\"procedure\": \"CT Chest\", \"diagnosis\": \"Community-Acquired Pneumonia\", \"required_symptoms\": [\"fever\", \"cough\"],\n",
        "     \"notes\": \"CT Chest reserved for inconclusive X-rays or immunocompromised patients.\"},\n",
        "    {\"procedure\": \"CT Abdomen\", \"diagnosis\": \"Suspected Appendicitis\", \"required_symptoms\": [\"abdominal pain\", \"nausea\", \"RLQ tenderness\"],\n",
        "     \"notes\": \"CT imaging justified if appendicitis is unclear.\"}\n",
        "]\n",
        "\n",
        "care_recommendations = [\n",
        "    {\"diagnosis\": \"Migraine\", \"next_step\": \"Start migraine treatment; imaging not necessary unless red flags appear.\"},\n",
        "    {\"diagnosis\": \"Suspected Pulmonary Embolism\", \"next_step\": \"Begin anticoagulation and confirm with CTPA.\"},\n",
        "    {\"diagnosis\": \"Chronic Low Back Pain\", \"next_step\": \"Refer to physiotherapy; MRI only if neuro symptoms persist.\"},\n",
        "    {\"diagnosis\": \"Community-Acquired Pneumonia\", \"next_step\": \"Start empirical antibiotics; reserve CT for poor responders.\"},\n",
        "    {\"diagnosis\": \"Suspected Appendicitis\", \"next_step\": \"Do CT to confirm and refer for surgery if positive.\"}\n",
        "]\n",
        "\n",
        "patient_records = [\n",
        "    {\"patient_id\": \"P101\", \"age\": 38, \"sex\": \"Male\", \"symptoms\": [\"abdominal pain\", \"nausea\"],\n",
        "     \"diagnosis\": \"Possible early appendicitis\", \"procedure\": \"CT Abdomen\",\n",
        "     \"notes\": \"Mild abdominal pain and nausea but no localized tenderness or rebound noted.\"},\n",
        "    {\"patient_id\": \"P102\", \"age\": 65, \"sex\": \"Female\", \"symptoms\": [\"chest pain\", \"shortness of breath\", \"tachycardia\"],\n",
        "     \"diagnosis\": \"Clinical suspicion of PE\", \"procedure\": \"CT Chest\",\n",
        "     \"notes\": \"Wells score high probability; D-dimer positive.\"},\n",
        "    {\"patient_id\": \"P103\", \"age\": 30, \"sex\": \"Female\", \"symptoms\": [\"recurrent headache\"],\n",
        "     \"diagnosis\": \"Classic migraine presentation\", \"procedure\": \"MRI Brain\",\n",
        "     \"notes\": \"No neuro signs or red flags. Typical migraine pattern.\"}\n",
        "]"
      ],
      "metadata": {
        "id": "R7aMEQ4k7A9F"
      },
      "id": "R7aMEQ4k7A9F",
      "execution_count": null,
      "outputs": []
    },
    {
      "cell_type": "markdown",
      "id": "b4b70bcf",
      "metadata": {
        "id": "b4b70bcf"
      },
      "source": [
        "### Tools for the Utilization Review Agent\n",
        "\n",
        "These are **tools** (decorated with `@tool`) that the agent can call during a review.  \n",
        "They encapsulate domain logic and return **small, structured dicts** the agent can reason over.\n",
        "\n",
        "#### Summary of tools\n",
        "\n",
        "| Tool | Purpose | Inputs | Output keys |\n",
        "|---|---|---|---|\n",
        "| `fetch_patient_record` | Retrieve and summarize a patient chart from in-memory data | `patient_id: str` | `patient_summary` _(str)_, or `error` |\n",
        "| `match_guideline` | Pick the closest clinical guideline for a (procedure, diagnosis) pair using the LLM | `procedure: str`, `diagnosis: str` | `matched_guideline` _(str)_ |\n",
        "| `check_guideline_validity` | Validate whether patient symptoms/notes meet the guideline’s criteria | `symptoms: list[str]`, `required_symptoms: list[str]`, `notes: str` | `validity_result` _(str)_ |\n",
        "| `recommend_care_plan` | Suggest next steps for the given diagnosis | `diagnosis: str` | `recommendation` _(str)_ |\n",
        "\n",
        "> All LLM-backed tools use `ChatOpenAI` (temperature = 0, streaming enabled in code) and return **concise textual justifications** under a single key.\n",
        "\n",
        "#### Typical call order used by the agent\n",
        "1. `fetch_patient_record(patient_id)` → summarize context  \n",
        "2. `match_guideline(procedure, diagnosis)` → find best-fit rule  \n",
        "3. `check_guideline_validity(symptoms, required_symptoms, notes)` → approve vs. needs review  \n",
        "4. `recommend_care_plan(diagnosis)` → action steps / alternatives\n",
        "\n",
        "#### Example outputs (shape)\n",
        "```json\n",
        "// fetch_patient_record\n",
        "{ \"patient_summary\": \"Patient ID: P102\\nAge: 65, Sex: Female\\nReported Symptoms: chest pain, shortness of breath, tachycardia\\nPreliminary Diagnosis: Clinical suspicion of PE\\nRequested Procedure: CT Chest\\nClinical Notes: Wells score high probability; D-dimer positive.\" }\n",
        "\n",
        "// match_guideline\n",
        "{ \"matched_guideline\": \"CTPA is appropriate for high-probability PE with positive D-dimer. Required symptoms: chest pain, shortness of breath, tachycardia. Caveats: ensure renal function adequate for contrast.\" }\n",
        "\n",
        "// check_guideline_validity\n",
        "{ \"validity_result\": \"Criteria met: symptoms align and notes indicate high probability (Wells) with positive D-dimer. Imaging is medically necessary.\" }\n",
        "\n",
        "// recommend_care_plan\n",
        "{ \"recommendation\": \"Begin anticoagulation and confirm with CTPA; monitor hemodynamics; consider risk stratification.\" }\n"
      ]
    },
    {
      "cell_type": "code",
      "execution_count": null,
      "id": "ed52ad3f",
      "metadata": {
        "id": "ed52ad3f"
      },
      "outputs": [],
      "source": [
        "llm = ChatOpenAI(model=\"gpt-4o-mini\", temperature=0)\n",
        "\n",
        "@tool\n",
        "def fetch_patient_record(patient_id: str) -> dict:\n",
        "    \"\"\"\n",
        "    Fetches and summarizes a patient record based on the given patient ID.\n",
        "\n",
        "    Returns a human-readable summary including age, sex, symptoms, diagnosis, procedure, and clinical notes.\n",
        "    Also includes the raw patient record in case other tools or agents need structured access.\n",
        "\n",
        "    Args:\n",
        "        patient_id (str): The unique identifier for the patient.\n",
        "\n",
        "    Returns:\n",
        "        dict: {\n",
        "            \"summary\": str,  # Natural language summary of the patient record\n",
        "        }\n",
        "    \"\"\"\n",
        "    for record in patient_records:\n",
        "        if record[\"patient_id\"] == patient_id:\n",
        "            summary = (\n",
        "                f\"Patient ID: {record['patient_id']}\\n\"\n",
        "                f\"Age: {record['age']}, Sex: {record['sex']}\\n\"\n",
        "                f\"Reported Symptoms: {', '.join(record['symptoms'])}\\n\"\n",
        "                f\"Preliminary Diagnosis: {record['diagnosis']}\\n\"\n",
        "                f\"Requested Procedure: {record['procedure']}\\n\"\n",
        "                f\"Clinical Notes: {record['notes']}\"\n",
        "            )\n",
        "            return {\n",
        "                \"patient_summary\": summary\n",
        "            }\n",
        "    return {\"error\": \"Patient record not found.\"}\n",
        "\n",
        "\n",
        "@tool\n",
        "def match_guideline(procedure: str, diagnosis: str) -> dict:\n",
        "    \"\"\"\n",
        "    Match a given procedure and diagnosis to the most relevant clinical guideline.\n",
        "\n",
        "    Args:\n",
        "        procedure (str): The medical procedure being requested.\n",
        "        diagnosis (str): The diagnosis related to the procedure.\n",
        "\n",
        "    Returns:\n",
        "        dict: A summary of the best matching guideline if found, or a message indicating no match.\n",
        "    \"\"\"\n",
        "    context = \"\\n\".join([\n",
        "        f\"{i+1}. Procedure: {g['procedure']}, Diagnosis: {g['diagnosis']}, Required Symptoms: {g['required_symptoms']}, Notes: {g['notes']}\"\n",
        "        for i, g in enumerate(medical_guidelines)])\n",
        "\n",
        "    prompt = f\"\"\"You are a clinical reviewer assessing whether a requested medical procedure aligns with existing evidence-based guidelines.\n",
        "\n",
        "Instructions:\n",
        "- Analyze the patient's procedure and diagnosis.\n",
        "- Compare against the list of provided clinical guidelines.\n",
        "- Select the guideline that best fits the case by reasoning on the common matches considering procedure and diagnosis.\n",
        "- If none match, respond: \"No appropriate guideline found for this case.\"\n",
        "- If a match is found, summarize the matching guideline clearly including any required symptoms or caveats.\n",
        "\n",
        "Patient Case:\n",
        "- Procedure: {procedure}\n",
        "- Diagnosis: {diagnosis}\n",
        "\n",
        "Available Guidelines:\n",
        "{context}\n",
        "\"\"\"\n",
        "    result = llm.invoke(prompt).content\n",
        "    return {\"matched_guideline\": result}\n",
        "\n",
        "\n",
        "@tool\n",
        "def check_guideline_validity(symptoms: list, required_symptoms: list, notes: str) -> dict:\n",
        "    \"\"\"\n",
        "    Determine whether the patient's symptoms and notes satisfy the guideline criteria for medical necessity.\n",
        "\n",
        "    Args:\n",
        "        symptoms (list): List of symptoms recorded in the patient’s record.\n",
        "        required_symptoms (list): List of symptoms required by the matched guideline.\n",
        "        notes (str): Free-text clinical notes associated with the patient case.\n",
        "\n",
        "    Returns:\n",
        "        dict: A string with justification explaining whether the procedure is valid or not.\n",
        "    \"\"\"\n",
        "    prompt = f\"\"\"You are validating a medical procedure request based on documented symptoms and clinical context.\n",
        "\n",
        "Instructions:\n",
        "- Assess whether the patient's symptoms and notes fulfill the required guideline criteria.\n",
        "- Consider nuances or indirect references (e.g. \"long flight\" implies immobility).\n",
        "- Provide a reasoned judgment if the procedure is medically necessary.\n",
        "- If it does not qualify, explain exactly which criteria are unmet.\n",
        "\n",
        "Input:\n",
        "- Patient Symptoms: {symptoms}\n",
        "- Required Symptoms from Guideline: {required_symptoms}\n",
        "- Clinical Notes: {notes}\n",
        "\"\"\"\n",
        "    result = llm.invoke(prompt).content\n",
        "    return {\"validity_result\": result}\n",
        "\n",
        "\n",
        "@tool\n",
        "def recommend_care_plan(diagnosis: str) -> dict:\n",
        "    \"\"\"\n",
        "    Recommend a follow-up care plan based on a given diagnosis.\n",
        "\n",
        "    Args:\n",
        "        diagnosis (str): The diagnosis to evaluate for next steps.\n",
        "\n",
        "    Returns:\n",
        "        dict: A recommendation string describing the suggested care plan or a fallback message if no match is found.\n",
        "    \"\"\"\n",
        "    options = \"\\n\".join([\n",
        "        f\"{i+1}. Diagnosis: {c['diagnosis']}, Recommendation: {c['next_step']}\"\n",
        "        for i, c in enumerate(care_recommendations)])\n",
        "\n",
        "    prompt = f\"\"\"You are a clinical support assistant suggesting appropriate next steps for a given medical diagnosis.\n",
        "\n",
        "Instructions:\n",
        "- Analyze the given diagnosis.\n",
        "- Choose the closest match from the list of known recommendations.\n",
        "- Explain why the match is appropriate.\n",
        "- If no suitable recommendation is found, return: \"No care recommendation found for this diagnosis.\"\n",
        "\n",
        "Diagnosis Provided:\n",
        "{diagnosis}\n",
        "\n",
        "Available Recommendations:\n",
        "{options}\n",
        "\"\"\"\n",
        "    result = llm.invoke(prompt).content\n",
        "    return {\"recommendation\": result}"
      ]
    },
    {
      "cell_type": "markdown",
      "id": "827eec35",
      "metadata": {
        "id": "827eec35"
      },
      "source": [
        "## Single-Agent System\n",
        "\n",
        "The diagram illustrates a **single-agent architecture** for healthcare decision support.  \n",
        "Unlike the multi-agent setup, all responsibilities are managed by one agent that coordinates tool usage directly.\n",
        "\n",
        "![](https://i.imgur.com/s9hSJ6l.png)\n",
        "\n",
        "#### 1. Central Agent\n",
        "- Operates with a **System Prompt** and an **LLM**.  \n",
        "- Handles **intake, guideline validation, and care recommendations** in one unified flow.  \n",
        "- Decides when and how to call tools to process patient data and reach decisions.\n",
        "\n",
        "#### 2. Tools Layer\n",
        "- The agent directly invokes tools for each task:  \n",
        "  - 📄 **Fetch Patient Record** – retrieves patient history from the dataset  \n",
        "  - 📊 **Match Guideline** – finds relevant medical guideline for diagnosis  \n",
        "  - ✅ **Check Guideline Validity** – verifies if symptoms meet required criteria  \n",
        "  - 💡 **Fetch Recommendation** – suggests treatments or interventions  \n",
        "\n",
        "#### 3. Datasets Layer\n",
        "- **Patient Records** – stores structured patient data  \n",
        "- **Medical Guidelines** – reference standards for diagnosis and procedures  \n",
        "- **Care Recommendations** – library of treatment or care pathways  \n",
        "\n",
        "#### 4. Final Output\n",
        "- The single agent consolidates results from all tools.  \n",
        "- Produces a **Final Decision Output** including:  \n",
        "  - Decision status  \n",
        "  - Reasoning  \n",
        "  - Recommended next steps  "
      ]
    },
    {
      "cell_type": "code",
      "execution_count": null,
      "id": "c9fee0f6",
      "metadata": {
        "id": "c9fee0f6"
      },
      "outputs": [],
      "source": [
        "single_agent_prompt = \"\"\"\n",
        "You are a senior medical review assistant responsible for evaluating healthcare procedure requests.\n",
        "\n",
        "You must call relevant tools to do the following:\n",
        "1. Retrieve the full patient record using the patient ID.\n",
        "2. Match the requested procedure and diagnosis to clinical guidelines.\n",
        "3. Validate the match by comparing the patient's symptoms and notes to the guideline's requirements.\n",
        "4. Recommend the appropriate next steps based on the diagnosis.\n",
        "5. Output a final summary based on the guidelines given below.\n",
        "\n",
        "Analyze all the results from the tool calls before making the final decision\n",
        "\n",
        "Your final response should ONLY include the following bullets in the exact format specified:\n",
        "\n",
        "- Final Decision: [APPROVED/NEEDS REVIEW]\n",
        "- Decision Reasoning: [What criteria matched or did not match]\n",
        "- Care recommendation or alternative steps: [care plan steps to take or alternative steps if it needs review]\n",
        "\n",
        "Do NOT add any other extra content in the final response\n",
        "\"\"\"\n",
        "AGENT_SYS_PROMPT = SystemMessage(content=single_agent_prompt)\n",
        "\n",
        "single_agent = create_react_agent(\n",
        "    model=llm,\n",
        "    tools=[fetch_patient_record, match_guideline, check_guideline_validity, recommend_care_plan],\n",
        "    prompt=AGENT_SYS_PROMPT\n",
        ")"
      ]
    },
    {
      "cell_type": "code",
      "source": [
        "from IPython.display import Image\n",
        "\n",
        "display(Image(single_agent.get_graph().draw_mermaid_png()))"
      ],
      "metadata": {
        "colab": {
          "base_uri": "https://localhost:8080/",
          "height": 266
        },
        "id": "x6lPnGagDx6C",
        "outputId": "1e6398c5-bbf6-49cb-cc59-ae02ebcf9530"
      },
      "id": "x6lPnGagDx6C",
      "execution_count": null,
      "outputs": [
        {
          "output_type": "display_data",
          "data": {
            "image/png": "[encoded data removed]",
            "text/plain": [
              "<IPython.core.display.Image object>"
            ]
          },
          "metadata": {}
        }
      ]
    },
    {
      "cell_type": "code",
      "source": [
        "!gdown 1dSyjcjlFoZpYEqv4P9Oi0-kU2gIoolMB"
      ],
      "metadata": {
        "colab": {
          "base_uri": "https://localhost:8080/"
        },
        "id": "IzYtqtYUnuOI",
        "outputId": "ada510ad-2c77-4b56-ad22-3a70ee2b9fa3"
      },
      "id": "IzYtqtYUnuOI",
      "execution_count": null,
      "outputs": [
        {
          "output_type": "stream",
          "name": "stdout",
          "text": [
            "Downloading...\n",
            "From (original): https://drive.google.com/uc?id=1dSyjcjlFoZpYEqv4P9Oi0-kU2gIoolMB\n",
            "From (redirected): https://drive.google.com/uc?id=1dSyjcjlFoZpYEqv4P9Oi0-kU2gIoolMB&confirm=t&uuid=c26656c4-ab8d-4b85-8e63-b50cc2f776d6\n",
            "To: /content/agent_utils.py\n",
            "\r  0% 0.00/6.38k [00:00<?, ?B/s]\r100% 6.38k/6.38k [00:00<00:00, 16.3MB/s]\n"
          ]
        }
      ]
    },
    {
      "cell_type": "markdown",
      "source": [
        "### Stream Agent Exeuction"
      ],
      "metadata": {
        "id": "ro0bgZOrn670"
      },
      "id": "ro0bgZOrn670"
    },
    {
      "cell_type": "code",
      "source": [
        "from agent_utils import format_message\n",
        "\n",
        "def call_agent_system(agent, prompt, verbose=False):\n",
        "    events = agent.stream(\n",
        "        {\"messages\": [(\"user\", prompt)]},\n",
        "        {\"recursion_limit\": 25},\n",
        "        stream_mode=\"values\"\n",
        "    )\n",
        "    for event in events:\n",
        "        if verbose:\n",
        "            format_message(event[\"messages\"][-1])\n",
        "\n",
        "    print('\\n\\nFinal Response:')\n",
        "    display(Markdown(event[\"messages\"][-1].content))"
      ],
      "metadata": {
        "id": "ccbCx6VPD9vh"
      },
      "id": "ccbCx6VPD9vh",
      "execution_count": null,
      "outputs": []
    },
    {
      "cell_type": "code",
      "source": [
        "prompt = \"Review patient P101 for procedure justification.\"\n",
        "call_agent_system(single_agent, prompt, verbose=True)"
      ],
      "metadata": {
        "colab": {
          "base_uri": "https://localhost:8080/",
          "height": 1000
        },
        "id": "CvTsCw0BEOMM",
        "outputId": "0d84454a-a4d9-48e9-f1e3-f001e8c5b6d9"
      },
      "id": "CvTsCw0BEOMM",
      "execution_count": null,
      "outputs": [
        {
          "output_type": "display_data",
          "data": {
            "text/plain": [
              "\u001b[34m╭─\u001b[0m\u001b[34m──────────────────────────────────────────────────\u001b[0m\u001b[34m 🧑 Human \u001b[0m\u001b[34m───────────────────────────────────────────────────\u001b[0m\u001b[34m─╮\u001b[0m\n",
              "\u001b[34m│\u001b[0m Review patient P101 for procedure justification.                                                                \u001b[34m│\u001b[0m\n",
              "\u001b[34m╰─────────────────────────────────────────────────────────────────────────────────────────────────────────────────╯\u001b[0m\n"
            ],
            "text/html": [
              "<pre style=\"white-space:pre;overflow-x:auto;line-height:normal;font-family:Menlo,'DejaVu Sans Mono',consolas,'Courier New',monospace\"><span style=\"color: #000080; text-decoration-color: #000080\">╭─────────────────────────────────────────────────── 🧑 Human ────────────────────────────────────────────────────╮</span>\n",
              "<span style=\"color: #000080; text-decoration-color: #000080\">│</span> Review patient P101 for procedure justification.                                                                <span style=\"color: #000080; text-decoration-color: #000080\">│</span>\n",
              "<span style=\"color: #000080; text-decoration-color: #000080\">╰─────────────────────────────────────────────────────────────────────────────────────────────────────────────────╯</span>\n",
              "</pre>\n"
            ]
          },
          "metadata": {}
        },
        {
          "output_type": "display_data",
          "data": {
            "text/plain": [
              "\u001b[31m╭─\u001b[0m\u001b[31m───────────────────────────────────────────────\u001b[0m\u001b[31m ⚙️ Tool Request \u001b[0m\u001b[31m────────────────────────────────────────────────\u001b[0m\u001b[31m─╮\u001b[0m\n",
              "\u001b[31m│\u001b[0m                                                                                                                 \u001b[31m│\u001b[0m\n",
              "\u001b[31m│\u001b[0m 🔧 Tool Call: fetch_patient_record                                                                              \u001b[31m│\u001b[0m\n",
              "\u001b[31m│\u001b[0m    Args: {                                                                                                      \u001b[31m│\u001b[0m\n",
              "\u001b[31m│\u001b[0m   \"patient_id\": \"P101\"                                                                                          \u001b[31m│\u001b[0m\n",
              "\u001b[31m│\u001b[0m }                                                                                                               \u001b[31m│\u001b[0m\n",
              "\u001b[31m│\u001b[0m    ID: call_myU0Xr5GOrBlN2PHftHc7sE8                                                                            \u001b[31m│\u001b[0m\n",
              "\u001b[31m╰─────────────────────────────────────────────────────────────────────────────────────────────────────────────────╯\u001b[0m\n"
            ],
            "text/html": [
              "<pre style=\"white-space:pre;overflow-x:auto;line-height:normal;font-family:Menlo,'DejaVu Sans Mono',consolas,'Courier New',monospace\"><span style=\"color: #800000; text-decoration-color: #800000\">╭──────────────────────────────────────────────── ⚙️ Tool Request ─────────────────────────────────────────────────╮</span>\n",
              "<span style=\"color: #800000; text-decoration-color: #800000\">│</span>                                                                                                                 <span style=\"color: #800000; text-decoration-color: #800000\">│</span>\n",
              "<span style=\"color: #800000; text-decoration-color: #800000\">│</span> 🔧 Tool Call: fetch_patient_record                                                                              <span style=\"color: #800000; text-decoration-color: #800000\">│</span>\n",
              "<span style=\"color: #800000; text-decoration-color: #800000\">│</span>    Args: {                                                                                                      <span style=\"color: #800000; text-decoration-color: #800000\">│</span>\n",
              "<span style=\"color: #800000; text-decoration-color: #800000\">│</span>   \"patient_id\": \"P101\"                                                                                          <span style=\"color: #800000; text-decoration-color: #800000\">│</span>\n",
              "<span style=\"color: #800000; text-decoration-color: #800000\">│</span> }                                                                                                               <span style=\"color: #800000; text-decoration-color: #800000\">│</span>\n",
              "<span style=\"color: #800000; text-decoration-color: #800000\">│</span>    ID: call_myU0Xr5GOrBlN2PHftHc7sE8                                                                            <span style=\"color: #800000; text-decoration-color: #800000\">│</span>\n",
              "<span style=\"color: #800000; text-decoration-color: #800000\">╰─────────────────────────────────────────────────────────────────────────────────────────────────────────────────╯</span>\n",
              "</pre>\n"
            ]
          },
          "metadata": {}
        },
        {
          "output_type": "display_data",
          "data": {
            "text/plain": [
              "\u001b[33m╭─\u001b[0m\u001b[33m───────────────────────────────────────────────\u001b[0m\u001b[33m 🔧 Tool Output \u001b[0m\u001b[33m────────────────────────────────────────────────\u001b[0m\u001b[33m─╮\u001b[0m\n",
              "\u001b[33m│\u001b[0m {\"patient_summary\": \"Patient ID: P101\\nAge: 38, Sex: Male\\nReported Symptoms: abdominal pain,                   \u001b[33m│\u001b[0m\n",
              "\u001b[33m│\u001b[0m nausea\\nPreliminary Diagnosis: Possible early appendicitis\\nRequested Procedure: CT Abdomen\\nClinical Notes:    \u001b[33m│\u001b[0m\n",
              "\u001b[33m│\u001b[0m Mild abdominal pain and nausea but no localized tenderness or rebound noted.\"}                                  \u001b[33m│\u001b[0m\n",
              "\u001b[33m╰─────────────────────────────────────────────────────────────────────────────────────────────────────────────────╯\u001b[0m\n"
            ],
            "text/html": [
              "<pre style=\"white-space:pre;overflow-x:auto;line-height:normal;font-family:Menlo,'DejaVu Sans Mono',consolas,'Courier New',monospace\"><span style=\"color: #808000; text-decoration-color: #808000\">╭──────────────────────────────────────────────── 🔧 Tool Output ─────────────────────────────────────────────────╮</span>\n",
              "<span style=\"color: #808000; text-decoration-color: #808000\">│</span> {\"patient_summary\": \"Patient ID: P101\\nAge: 38, Sex: Male\\nReported Symptoms: abdominal pain,                   <span style=\"color: #808000; text-decoration-color: #808000\">│</span>\n",
              "<span style=\"color: #808000; text-decoration-color: #808000\">│</span> nausea\\nPreliminary Diagnosis: Possible early appendicitis\\nRequested Procedure: CT Abdomen\\nClinical Notes:    <span style=\"color: #808000; text-decoration-color: #808000\">│</span>\n",
              "<span style=\"color: #808000; text-decoration-color: #808000\">│</span> Mild abdominal pain and nausea but no localized tenderness or rebound noted.\"}                                  <span style=\"color: #808000; text-decoration-color: #808000\">│</span>\n",
              "<span style=\"color: #808000; text-decoration-color: #808000\">╰─────────────────────────────────────────────────────────────────────────────────────────────────────────────────╯</span>\n",
              "</pre>\n"
            ]
          },
          "metadata": {}
        },
        {
          "output_type": "display_data",
          "data": {
            "text/plain": [
              "\u001b[31m╭─\u001b[0m\u001b[31m───────────────────────────────────────────────\u001b[0m\u001b[31m ⚙️ Tool Request \u001b[0m\u001b[31m────────────────────────────────────────────────\u001b[0m\u001b[31m─╮\u001b[0m\n",
              "\u001b[31m│\u001b[0m                                                                                                                 \u001b[31m│\u001b[0m\n",
              "\u001b[31m│\u001b[0m 🔧 Tool Call: match_guideline                                                                                   \u001b[31m│\u001b[0m\n",
              "\u001b[31m│\u001b[0m    Args: {                                                                                                      \u001b[31m│\u001b[0m\n",
              "\u001b[31m│\u001b[0m   \"procedure\": \"CT Abdomen\",                                                                                    \u001b[31m│\u001b[0m\n",
              "\u001b[31m│\u001b[0m   \"diagnosis\": \"Possible early appendicitis\"                                                                    \u001b[31m│\u001b[0m\n",
              "\u001b[31m│\u001b[0m }                                                                                                               \u001b[31m│\u001b[0m\n",
              "\u001b[31m│\u001b[0m    ID: call_e6LNbT0SE8z0pPk9uoKAXx8m                                                                            \u001b[31m│\u001b[0m\n",
              "\u001b[31m╰─────────────────────────────────────────────────────────────────────────────────────────────────────────────────╯\u001b[0m\n"
            ],
            "text/html": [
              "<pre style=\"white-space:pre;overflow-x:auto;line-height:normal;font-family:Menlo,'DejaVu Sans Mono',consolas,'Courier New',monospace\"><span style=\"color: #800000; text-decoration-color: #800000\">╭──────────────────────────────────────────────── ⚙️ Tool Request ─────────────────────────────────────────────────╮</span>\n",
              "<span style=\"color: #800000; text-decoration-color: #800000\">│</span>                                                                                                                 <span style=\"color: #800000; text-decoration-color: #800000\">│</span>\n",
              "<span style=\"color: #800000; text-decoration-color: #800000\">│</span> 🔧 Tool Call: match_guideline                                                                                   <span style=\"color: #800000; text-decoration-color: #800000\">│</span>\n",
              "<span style=\"color: #800000; text-decoration-color: #800000\">│</span>    Args: {                                                                                                      <span style=\"color: #800000; text-decoration-color: #800000\">│</span>\n",
              "<span style=\"color: #800000; text-decoration-color: #800000\">│</span>   \"procedure\": \"CT Abdomen\",                                                                                    <span style=\"color: #800000; text-decoration-color: #800000\">│</span>\n",
              "<span style=\"color: #800000; text-decoration-color: #800000\">│</span>   \"diagnosis\": \"Possible early appendicitis\"                                                                    <span style=\"color: #800000; text-decoration-color: #800000\">│</span>\n",
              "<span style=\"color: #800000; text-decoration-color: #800000\">│</span> }                                                                                                               <span style=\"color: #800000; text-decoration-color: #800000\">│</span>\n",
              "<span style=\"color: #800000; text-decoration-color: #800000\">│</span>    ID: call_e6LNbT0SE8z0pPk9uoKAXx8m                                                                            <span style=\"color: #800000; text-decoration-color: #800000\">│</span>\n",
              "<span style=\"color: #800000; text-decoration-color: #800000\">╰─────────────────────────────────────────────────────────────────────────────────────────────────────────────────╯</span>\n",
              "</pre>\n"
            ]
          },
          "metadata": {}
        },
        {
          "output_type": "display_data",
          "data": {
            "text/plain": [
              "\u001b[33m╭─\u001b[0m\u001b[33m───────────────────────────────────────────────\u001b[0m\u001b[33m 🔧 Tool Output \u001b[0m\u001b[33m────────────────────────────────────────────────\u001b[0m\u001b[33m─╮\u001b[0m\n",
              "\u001b[33m│\u001b[0m {\"matched_guideline\": \"The patient's procedure is a CT Abdomen, and the diagnosis is possible early             \u001b[33m│\u001b[0m\n",
              "\u001b[33m│\u001b[0m appendicitis. \\n\\nUpon reviewing the available guidelines, the one that best fits this case is:\\n\\n**Guideline: \u001b[33m│\u001b[0m\n",
              "\u001b[33m│\u001b[0m CT Abdomen, Diagnosis: Suspected Appendicitis**\\n- **Required Symptoms:** ['abdominal pain', 'nausea', 'RLQ     \u001b[33m│\u001b[0m\n",
              "\u001b[33m│\u001b[0m tenderness']\\n- **Notes:** CT imaging justified if appendicitis is unclear.\\n\\nThis guideline indicates that a  \u001b[33m│\u001b[0m\n",
              "\u001b[33m│\u001b[0m CT Abdomen is appropriate for evaluating suspected appendicitis, especially when the diagnosis is uncertain and \u001b[33m│\u001b[0m\n",
              "\u001b[33m│\u001b[0m the patient presents with relevant symptoms such as abdominal pain, nausea, and right lower quadrant            \u001b[33m│\u001b[0m\n",
              "\u001b[33m│\u001b[0m tenderness. \\n\\nIn this case, since the diagnosis is possible early appendicitis, the CT Abdomen aligns with    \u001b[33m│\u001b[0m\n",
              "\u001b[33m│\u001b[0m the guideline, as it is justified to clarify the diagnosis.\"}                                                   \u001b[33m│\u001b[0m\n",
              "\u001b[33m╰─────────────────────────────────────────────────────────────────────────────────────────────────────────────────╯\u001b[0m\n"
            ],
            "text/html": [
              "<pre style=\"white-space:pre;overflow-x:auto;line-height:normal;font-family:Menlo,'DejaVu Sans Mono',consolas,'Courier New',monospace\"><span style=\"color: #808000; text-decoration-color: #808000\">╭──────────────────────────────────────────────── 🔧 Tool Output ─────────────────────────────────────────────────╮</span>\n",
              "<span style=\"color: #808000; text-decoration-color: #808000\">│</span> {\"matched_guideline\": \"The patient's procedure is a CT Abdomen, and the diagnosis is possible early             <span style=\"color: #808000; text-decoration-color: #808000\">│</span>\n",
              "<span style=\"color: #808000; text-decoration-color: #808000\">│</span> appendicitis. \\n\\nUpon reviewing the available guidelines, the one that best fits this case is:\\n\\n**Guideline: <span style=\"color: #808000; text-decoration-color: #808000\">│</span>\n",
              "<span style=\"color: #808000; text-decoration-color: #808000\">│</span> CT Abdomen, Diagnosis: Suspected Appendicitis**\\n- **Required Symptoms:** ['abdominal pain', 'nausea', 'RLQ     <span style=\"color: #808000; text-decoration-color: #808000\">│</span>\n",
              "<span style=\"color: #808000; text-decoration-color: #808000\">│</span> tenderness']\\n- **Notes:** CT imaging justified if appendicitis is unclear.\\n\\nThis guideline indicates that a  <span style=\"color: #808000; text-decoration-color: #808000\">│</span>\n",
              "<span style=\"color: #808000; text-decoration-color: #808000\">│</span> CT Abdomen is appropriate for evaluating suspected appendicitis, especially when the diagnosis is uncertain and <span style=\"color: #808000; text-decoration-color: #808000\">│</span>\n",
              "<span style=\"color: #808000; text-decoration-color: #808000\">│</span> the patient presents with relevant symptoms such as abdominal pain, nausea, and right lower quadrant            <span style=\"color: #808000; text-decoration-color: #808000\">│</span>\n",
              "<span style=\"color: #808000; text-decoration-color: #808000\">│</span> tenderness. \\n\\nIn this case, since the diagnosis is possible early appendicitis, the CT Abdomen aligns with    <span style=\"color: #808000; text-decoration-color: #808000\">│</span>\n",
              "<span style=\"color: #808000; text-decoration-color: #808000\">│</span> the guideline, as it is justified to clarify the diagnosis.\"}                                                   <span style=\"color: #808000; text-decoration-color: #808000\">│</span>\n",
              "<span style=\"color: #808000; text-decoration-color: #808000\">╰─────────────────────────────────────────────────────────────────────────────────────────────────────────────────╯</span>\n",
              "</pre>\n"
            ]
          },
          "metadata": {}
        },
        {
          "output_type": "display_data",
          "data": {
            "text/plain": [
              "\u001b[31m╭─\u001b[0m\u001b[31m───────────────────────────────────────────────\u001b[0m\u001b[31m ⚙️ Tool Request \u001b[0m\u001b[31m────────────────────────────────────────────────\u001b[0m\u001b[31m─╮\u001b[0m\n",
              "\u001b[31m│\u001b[0m                                                                                                                 \u001b[31m│\u001b[0m\n",
              "\u001b[31m│\u001b[0m 🔧 Tool Call: check_guideline_validity                                                                          \u001b[31m│\u001b[0m\n",
              "\u001b[31m│\u001b[0m    Args: {                                                                                                      \u001b[31m│\u001b[0m\n",
              "\u001b[31m│\u001b[0m   \"symptoms\": [                                                                                                 \u001b[31m│\u001b[0m\n",
              "\u001b[31m│\u001b[0m     \"abdominal pain\",                                                                                           \u001b[31m│\u001b[0m\n",
              "\u001b[31m│\u001b[0m     \"nausea\"                                                                                                    \u001b[31m│\u001b[0m\n",
              "\u001b[31m│\u001b[0m   ],                                                                                                            \u001b[31m│\u001b[0m\n",
              "\u001b[31m│\u001b[0m   \"required_symptoms\": [                                                                                        \u001b[31m│\u001b[0m\n",
              "\u001b[31m│\u001b[0m     \"abdominal pain\",                                                                                           \u001b[31m│\u001b[0m\n",
              "\u001b[31m│\u001b[0m     \"nausea\",                                                                                                   \u001b[31m│\u001b[0m\n",
              "\u001b[31m│\u001b[0m     \"RLQ tenderness\"                                                                                            \u001b[31m│\u001b[0m\n",
              "\u001b[31m│\u001b[0m   ],                                                                                                            \u001b[31m│\u001b[0m\n",
              "\u001b[31m│\u001b[0m   \"notes\": \"Mild abdominal pain and nausea but no localized tenderness or rebound noted.\"                       \u001b[31m│\u001b[0m\n",
              "\u001b[31m│\u001b[0m }                                                                                                               \u001b[31m│\u001b[0m\n",
              "\u001b[31m│\u001b[0m    ID: call_15kxoUspOb6w6MWy5ylWy2jl                                                                            \u001b[31m│\u001b[0m\n",
              "\u001b[31m╰─────────────────────────────────────────────────────────────────────────────────────────────────────────────────╯\u001b[0m\n"
            ],
            "text/html": [
              "<pre style=\"white-space:pre;overflow-x:auto;line-height:normal;font-family:Menlo,'DejaVu Sans Mono',consolas,'Courier New',monospace\"><span style=\"color: #800000; text-decoration-color: #800000\">╭──────────────────────────────────────────────── ⚙️ Tool Request ─────────────────────────────────────────────────╮</span>\n",
              "<span style=\"color: #800000; text-decoration-color: #800000\">│</span>                                                                                                                 <span style=\"color: #800000; text-decoration-color: #800000\">│</span>\n",
              "<span style=\"color: #800000; text-decoration-color: #800000\">│</span> 🔧 Tool Call: check_guideline_validity                                                                          <span style=\"color: #800000; text-decoration-color: #800000\">│</span>\n",
              "<span style=\"color: #800000; text-decoration-color: #800000\">│</span>    Args: {                                                                                                      <span style=\"color: #800000; text-decoration-color: #800000\">│</span>\n",
              "<span style=\"color: #800000; text-decoration-color: #800000\">│</span>   \"symptoms\": [                                                                                                 <span style=\"color: #800000; text-decoration-color: #800000\">│</span>\n",
              "<span style=\"color: #800000; text-decoration-color: #800000\">│</span>     \"abdominal pain\",                                                                                           <span style=\"color: #800000; text-decoration-color: #800000\">│</span>\n",
              "<span style=\"color: #800000; text-decoration-color: #800000\">│</span>     \"nausea\"                                                                                                    <span style=\"color: #800000; text-decoration-color: #800000\">│</span>\n",
              "<span style=\"color: #800000; text-decoration-color: #800000\">│</span>   ],                                                                                                            <span style=\"color: #800000; text-decoration-color: #800000\">│</span>\n",
              "<span style=\"color: #800000; text-decoration-color: #800000\">│</span>   \"required_symptoms\": [                                                                                        <span style=\"color: #800000; text-decoration-color: #800000\">│</span>\n",
              "<span style=\"color: #800000; text-decoration-color: #800000\">│</span>     \"abdominal pain\",                                                                                           <span style=\"color: #800000; text-decoration-color: #800000\">│</span>\n",
              "<span style=\"color: #800000; text-decoration-color: #800000\">│</span>     \"nausea\",                                                                                                   <span style=\"color: #800000; text-decoration-color: #800000\">│</span>\n",
              "<span style=\"color: #800000; text-decoration-color: #800000\">│</span>     \"RLQ tenderness\"                                                                                            <span style=\"color: #800000; text-decoration-color: #800000\">│</span>\n",
              "<span style=\"color: #800000; text-decoration-color: #800000\">│</span>   ],                                                                                                            <span style=\"color: #800000; text-decoration-color: #800000\">│</span>\n",
              "<span style=\"color: #800000; text-decoration-color: #800000\">│</span>   \"notes\": \"Mild abdominal pain and nausea but no localized tenderness or rebound noted.\"                       <span style=\"color: #800000; text-decoration-color: #800000\">│</span>\n",
              "<span style=\"color: #800000; text-decoration-color: #800000\">│</span> }                                                                                                               <span style=\"color: #800000; text-decoration-color: #800000\">│</span>\n",
              "<span style=\"color: #800000; text-decoration-color: #800000\">│</span>    ID: call_15kxoUspOb6w6MWy5ylWy2jl                                                                            <span style=\"color: #800000; text-decoration-color: #800000\">│</span>\n",
              "<span style=\"color: #800000; text-decoration-color: #800000\">╰─────────────────────────────────────────────────────────────────────────────────────────────────────────────────╯</span>\n",
              "</pre>\n"
            ]
          },
          "metadata": {}
        },
        {
          "output_type": "display_data",
          "data": {
            "text/plain": [
              "\u001b[33m╭─\u001b[0m\u001b[33m───────────────────────────────────────────────\u001b[0m\u001b[33m 🔧 Tool Output \u001b[0m\u001b[33m────────────────────────────────────────────────\u001b[0m\u001b[33m─╮\u001b[0m\n",
              "\u001b[33m│\u001b[0m {\"validity_result\": \"Based on the provided information, the patient's symptoms include abdominal pain and       \u001b[33m│\u001b[0m\n",
              "\u001b[33m│\u001b[0m nausea, which align with two of the three required symptoms from the guideline. However, the guideline          \u001b[33m│\u001b[0m\n",
              "\u001b[33m│\u001b[0m specifies that RLQ (right lower quadrant) tenderness is also necessary for the procedure request to be          \u001b[33m│\u001b[0m\n",
              "\u001b[33m│\u001b[0m considered medically necessary.\\n\\nIn the clinical notes, it is mentioned that there is mild abdominal pain and \u001b[33m│\u001b[0m\n",
              "\u001b[33m│\u001b[0m nausea, but importantly, there is no localized tenderness or rebound noted. This indicates that the patient     \u001b[33m│\u001b[0m\n",
              "\u001b[33m│\u001b[0m does not exhibit the required RLQ tenderness, which is a critical component of the guideline                    \u001b[33m│\u001b[0m\n",
              "\u001b[33m│\u001b[0m criteria.\\n\\nTherefore, the procedure does not qualify as medically necessary because the patient does not meet \u001b[33m│\u001b[0m\n",
              "\u001b[33m│\u001b[0m all the required symptoms outlined in the guideline. Specifically, the unmet criterion is the absence of RLQ    \u001b[33m│\u001b[0m\n",
              "\u001b[33m│\u001b[0m tenderness.\"}                                                                                                   \u001b[33m│\u001b[0m\n",
              "\u001b[33m╰─────────────────────────────────────────────────────────────────────────────────────────────────────────────────╯\u001b[0m\n"
            ],
            "text/html": [
              "<pre style=\"white-space:pre;overflow-x:auto;line-height:normal;font-family:Menlo,'DejaVu Sans Mono',consolas,'Courier New',monospace\"><span style=\"color: #808000; text-decoration-color: #808000\">╭──────────────────────────────────────────────── 🔧 Tool Output ─────────────────────────────────────────────────╮</span>\n",
              "<span style=\"color: #808000; text-decoration-color: #808000\">│</span> {\"validity_result\": \"Based on the provided information, the patient's symptoms include abdominal pain and       <span style=\"color: #808000; text-decoration-color: #808000\">│</span>\n",
              "<span style=\"color: #808000; text-decoration-color: #808000\">│</span> nausea, which align with two of the three required symptoms from the guideline. However, the guideline          <span style=\"color: #808000; text-decoration-color: #808000\">│</span>\n",
              "<span style=\"color: #808000; text-decoration-color: #808000\">│</span> specifies that RLQ (right lower quadrant) tenderness is also necessary for the procedure request to be          <span style=\"color: #808000; text-decoration-color: #808000\">│</span>\n",
              "<span style=\"color: #808000; text-decoration-color: #808000\">│</span> considered medically necessary.\\n\\nIn the clinical notes, it is mentioned that there is mild abdominal pain and <span style=\"color: #808000; text-decoration-color: #808000\">│</span>\n",
              "<span style=\"color: #808000; text-decoration-color: #808000\">│</span> nausea, but importantly, there is no localized tenderness or rebound noted. This indicates that the patient     <span style=\"color: #808000; text-decoration-color: #808000\">│</span>\n",
              "<span style=\"color: #808000; text-decoration-color: #808000\">│</span> does not exhibit the required RLQ tenderness, which is a critical component of the guideline                    <span style=\"color: #808000; text-decoration-color: #808000\">│</span>\n",
              "<span style=\"color: #808000; text-decoration-color: #808000\">│</span> criteria.\\n\\nTherefore, the procedure does not qualify as medically necessary because the patient does not meet <span style=\"color: #808000; text-decoration-color: #808000\">│</span>\n",
              "<span style=\"color: #808000; text-decoration-color: #808000\">│</span> all the required symptoms outlined in the guideline. Specifically, the unmet criterion is the absence of RLQ    <span style=\"color: #808000; text-decoration-color: #808000\">│</span>\n",
              "<span style=\"color: #808000; text-decoration-color: #808000\">│</span> tenderness.\"}                                                                                                   <span style=\"color: #808000; text-decoration-color: #808000\">│</span>\n",
              "<span style=\"color: #808000; text-decoration-color: #808000\">╰─────────────────────────────────────────────────────────────────────────────────────────────────────────────────╯</span>\n",
              "</pre>\n"
            ]
          },
          "metadata": {}
        },
        {
          "output_type": "display_data",
          "data": {
            "text/plain": [
              "\u001b[31m╭─\u001b[0m\u001b[31m───────────────────────────────────────────────\u001b[0m\u001b[31m ⚙️ Tool Request \u001b[0m\u001b[31m────────────────────────────────────────────────\u001b[0m\u001b[31m─╮\u001b[0m\n",
              "\u001b[31m│\u001b[0m                                                                                                                 \u001b[31m│\u001b[0m\n",
              "\u001b[31m│\u001b[0m 🔧 Tool Call: recommend_care_plan                                                                               \u001b[31m│\u001b[0m\n",
              "\u001b[31m│\u001b[0m    Args: {                                                                                                      \u001b[31m│\u001b[0m\n",
              "\u001b[31m│\u001b[0m   \"diagnosis\": \"Possible early appendicitis\"                                                                    \u001b[31m│\u001b[0m\n",
              "\u001b[31m│\u001b[0m }                                                                                                               \u001b[31m│\u001b[0m\n",
              "\u001b[31m│\u001b[0m    ID: call_J9eXcQ96nbyWXWLH0pcOa6s2                                                                            \u001b[31m│\u001b[0m\n",
              "\u001b[31m╰─────────────────────────────────────────────────────────────────────────────────────────────────────────────────╯\u001b[0m\n"
            ],
            "text/html": [
              "<pre style=\"white-space:pre;overflow-x:auto;line-height:normal;font-family:Menlo,'DejaVu Sans Mono',consolas,'Courier New',monospace\"><span style=\"color: #800000; text-decoration-color: #800000\">╭──────────────────────────────────────────────── ⚙️ Tool Request ─────────────────────────────────────────────────╮</span>\n",
              "<span style=\"color: #800000; text-decoration-color: #800000\">│</span>                                                                                                                 <span style=\"color: #800000; text-decoration-color: #800000\">│</span>\n",
              "<span style=\"color: #800000; text-decoration-color: #800000\">│</span> 🔧 Tool Call: recommend_care_plan                                                                               <span style=\"color: #800000; text-decoration-color: #800000\">│</span>\n",
              "<span style=\"color: #800000; text-decoration-color: #800000\">│</span>    Args: {                                                                                                      <span style=\"color: #800000; text-decoration-color: #800000\">│</span>\n",
              "<span style=\"color: #800000; text-decoration-color: #800000\">│</span>   \"diagnosis\": \"Possible early appendicitis\"                                                                    <span style=\"color: #800000; text-decoration-color: #800000\">│</span>\n",
              "<span style=\"color: #800000; text-decoration-color: #800000\">│</span> }                                                                                                               <span style=\"color: #800000; text-decoration-color: #800000\">│</span>\n",
              "<span style=\"color: #800000; text-decoration-color: #800000\">│</span>    ID: call_J9eXcQ96nbyWXWLH0pcOa6s2                                                                            <span style=\"color: #800000; text-decoration-color: #800000\">│</span>\n",
              "<span style=\"color: #800000; text-decoration-color: #800000\">╰─────────────────────────────────────────────────────────────────────────────────────────────────────────────────╯</span>\n",
              "</pre>\n"
            ]
          },
          "metadata": {}
        },
        {
          "output_type": "display_data",
          "data": {
            "text/plain": [
              "\u001b[33m╭─\u001b[0m\u001b[33m───────────────────────────────────────────────\u001b[0m\u001b[33m 🔧 Tool Output \u001b[0m\u001b[33m────────────────────────────────────────────────\u001b[0m\u001b[33m─╮\u001b[0m\n",
              "\u001b[33m│\u001b[0m {\"recommendation\": \"The closest match from the list of known recommendations for the diagnosis of possible      \u001b[33m│\u001b[0m\n",
              "\u001b[33m│\u001b[0m early appendicitis is:\\n\\n**Diagnosis: Suspected Appendicitis, Recommendation: Do CT to confirm and refer for   \u001b[33m│\u001b[0m\n",
              "\u001b[33m│\u001b[0m surgery if positive.**\\n\\n**Explanation:**\\nThis recommendation is appropriate because it directly addresses    \u001b[33m│\u001b[0m\n",
              "\u001b[33m│\u001b[0m the concern of appendicitis, which is characterized by inflammation of the appendix. In cases of suspected      \u001b[33m│\u001b[0m\n",
              "\u001b[33m│\u001b[0m appendicitis, imaging, such as a CT scan, is often utilized to confirm the diagnosis. If the CT scan indicates  \u001b[33m│\u001b[0m\n",
              "\u001b[33m│\u001b[0m appendicitis, surgical intervention (appendectomy) is typically required to prevent complications such as       \u001b[33m│\u001b[0m\n",
              "\u001b[33m│\u001b[0m perforation or abscess formation. Therefore, this recommendation aligns perfectly with the need to evaluate and \u001b[33m│\u001b[0m\n",
              "\u001b[33m│\u001b[0m manage a potential case of early appendicitis.\"}                                                                \u001b[33m│\u001b[0m\n",
              "\u001b[33m╰─────────────────────────────────────────────────────────────────────────────────────────────────────────────────╯\u001b[0m\n"
            ],
            "text/html": [
              "<pre style=\"white-space:pre;overflow-x:auto;line-height:normal;font-family:Menlo,'DejaVu Sans Mono',consolas,'Courier New',monospace\"><span style=\"color: #808000; text-decoration-color: #808000\">╭──────────────────────────────────────────────── 🔧 Tool Output ─────────────────────────────────────────────────╮</span>\n",
              "<span style=\"color: #808000; text-decoration-color: #808000\">│</span> {\"recommendation\": \"The closest match from the list of known recommendations for the diagnosis of possible      <span style=\"color: #808000; text-decoration-color: #808000\">│</span>\n",
              "<span style=\"color: #808000; text-decoration-color: #808000\">│</span> early appendicitis is:\\n\\n**Diagnosis: Suspected Appendicitis, Recommendation: Do CT to confirm and refer for   <span style=\"color: #808000; text-decoration-color: #808000\">│</span>\n",
              "<span style=\"color: #808000; text-decoration-color: #808000\">│</span> surgery if positive.**\\n\\n**Explanation:**\\nThis recommendation is appropriate because it directly addresses    <span style=\"color: #808000; text-decoration-color: #808000\">│</span>\n",
              "<span style=\"color: #808000; text-decoration-color: #808000\">│</span> the concern of appendicitis, which is characterized by inflammation of the appendix. In cases of suspected      <span style=\"color: #808000; text-decoration-color: #808000\">│</span>\n",
              "<span style=\"color: #808000; text-decoration-color: #808000\">│</span> appendicitis, imaging, such as a CT scan, is often utilized to confirm the diagnosis. If the CT scan indicates  <span style=\"color: #808000; text-decoration-color: #808000\">│</span>\n",
              "<span style=\"color: #808000; text-decoration-color: #808000\">│</span> appendicitis, surgical intervention (appendectomy) is typically required to prevent complications such as       <span style=\"color: #808000; text-decoration-color: #808000\">│</span>\n",
              "<span style=\"color: #808000; text-decoration-color: #808000\">│</span> perforation or abscess formation. Therefore, this recommendation aligns perfectly with the need to evaluate and <span style=\"color: #808000; text-decoration-color: #808000\">│</span>\n",
              "<span style=\"color: #808000; text-decoration-color: #808000\">│</span> manage a potential case of early appendicitis.\"}                                                                <span style=\"color: #808000; text-decoration-color: #808000\">│</span>\n",
              "<span style=\"color: #808000; text-decoration-color: #808000\">╰─────────────────────────────────────────────────────────────────────────────────────────────────────────────────╯</span>\n",
              "</pre>\n"
            ]
          },
          "metadata": {}
        },
        {
          "output_type": "display_data",
          "data": {
            "text/plain": [
              "\u001b[32m╭─\u001b[0m\u001b[32m────────────────────────────────────────────────\u001b[0m\u001b[32m 🤖 Assistant \u001b[0m\u001b[32m─────────────────────────────────────────────────\u001b[0m\u001b[32m─╮\u001b[0m\n",
              "\u001b[32m│\u001b[0m - Final Decision: NEEDS REVIEW                                                                                  \u001b[32m│\u001b[0m\n",
              "\u001b[32m│\u001b[0m - Decision Reasoning: The patient's symptoms include abdominal pain and nausea, but they do not exhibit the     \u001b[32m│\u001b[0m\n",
              "\u001b[32m│\u001b[0m required RLQ tenderness, which is necessary for the procedure to be considered medically necessary according to \u001b[32m│\u001b[0m\n",
              "\u001b[32m│\u001b[0m the guideline.                                                                                                  \u001b[32m│\u001b[0m\n",
              "\u001b[32m│\u001b[0m - Care recommendation or alternative steps: Recommend further evaluation and monitoring of symptoms; consider   \u001b[32m│\u001b[0m\n",
              "\u001b[32m│\u001b[0m alternative imaging or clinical assessment before proceeding with a CT Abdomen. If symptoms worsen or RLQ       \u001b[32m│\u001b[0m\n",
              "\u001b[32m│\u001b[0m tenderness develops, re-evaluate for possible appendicitis and consider CT scan.                                \u001b[32m│\u001b[0m\n",
              "\u001b[32m╰─────────────────────────────────────────────────────────────────────────────────────────────────────────────────╯\u001b[0m\n"
            ],
            "text/html": [
              "<pre style=\"white-space:pre;overflow-x:auto;line-height:normal;font-family:Menlo,'DejaVu Sans Mono',consolas,'Courier New',monospace\"><span style=\"color: #008000; text-decoration-color: #008000\">╭───────────────────────────────────────────────── 🤖 Assistant ──────────────────────────────────────────────────╮</span>\n",
              "<span style=\"color: #008000; text-decoration-color: #008000\">│</span> - Final Decision: NEEDS REVIEW                                                                                  <span style=\"color: #008000; text-decoration-color: #008000\">│</span>\n",
              "<span style=\"color: #008000; text-decoration-color: #008000\">│</span> - Decision Reasoning: The patient's symptoms include abdominal pain and nausea, but they do not exhibit the     <span style=\"color: #008000; text-decoration-color: #008000\">│</span>\n",
              "<span style=\"color: #008000; text-decoration-color: #008000\">│</span> required RLQ tenderness, which is necessary for the procedure to be considered medically necessary according to <span style=\"color: #008000; text-decoration-color: #008000\">│</span>\n",
              "<span style=\"color: #008000; text-decoration-color: #008000\">│</span> the guideline.                                                                                                  <span style=\"color: #008000; text-decoration-color: #008000\">│</span>\n",
              "<span style=\"color: #008000; text-decoration-color: #008000\">│</span> - Care recommendation or alternative steps: Recommend further evaluation and monitoring of symptoms; consider   <span style=\"color: #008000; text-decoration-color: #008000\">│</span>\n",
              "<span style=\"color: #008000; text-decoration-color: #008000\">│</span> alternative imaging or clinical assessment before proceeding with a CT Abdomen. If symptoms worsen or RLQ       <span style=\"color: #008000; text-decoration-color: #008000\">│</span>\n",
              "<span style=\"color: #008000; text-decoration-color: #008000\">│</span> tenderness develops, re-evaluate for possible appendicitis and consider CT scan.                                <span style=\"color: #008000; text-decoration-color: #008000\">│</span>\n",
              "<span style=\"color: #008000; text-decoration-color: #008000\">╰─────────────────────────────────────────────────────────────────────────────────────────────────────────────────╯</span>\n",
              "</pre>\n"
            ]
          },
          "metadata": {}
        },
        {
          "output_type": "stream",
          "name": "stdout",
          "text": [
            "\n",
            "\n",
            "Final Response:\n"
          ]
        },
        {
          "output_type": "display_data",
          "data": {
            "text/plain": [
              "<IPython.core.display.Markdown object>"
            ],
            "text/markdown": "- Final Decision: NEEDS REVIEW\n- Decision Reasoning: The patient's symptoms include abdominal pain and nausea, but they do not exhibit the required RLQ tenderness, which is necessary for the procedure to be considered medically necessary according to the guideline.\n- Care recommendation or alternative steps: Recommend further evaluation and monitoring of symptoms; consider alternative imaging or clinical assessment before proceeding with a CT Abdomen. If symptoms worsen or RLQ tenderness develops, re-evaluate for possible appendicitis and consider CT scan."
          },
          "metadata": {}
        }
      ]
    },
    {
      "cell_type": "markdown",
      "id": "42ccbffc",
      "metadata": {
        "id": "42ccbffc"
      },
      "source": [
        "## Multi-Agent System with Supervisor\n",
        "\n",
        "The diagram illustrates a **multi-agent architecture** designed for healthcare decision support.  \n",
        "It consists of several specialized agents, datasets, and tools orchestrated under a supervisor.\n",
        "\n",
        "![](https://i.imgur.com/EzayV5W.png)\n",
        "\n",
        "#### 1. Supervisor Agent\n",
        "- Central coordinator of the workflow.  \n",
        "- Uses a **System Prompt** and an **LLM** to decide which specialized agent should handle a task.  \n",
        "- Collects results and routes them to produce the **Final Decision Output**.\n",
        "\n",
        "#### 2. Specialized Agents\n",
        "- **Clinical Intake Agent (📄)**  \n",
        "  - Gathers patient information.  \n",
        "  - Interacts with the **Patient Records** dataset through the **Fetch Patient Record** tool.  \n",
        "\n",
        "- **Guideline Checker Agent (📊)**  \n",
        "  - Validates care recommendations against medical standards.  \n",
        "  - Uses the **Match Guideline** and **Check Guideline Validity** tools with the **Medical Guidelines** dataset.  \n",
        "\n",
        "- **Care Recommender Agent (💡)**  \n",
        "  - Suggests appropriate treatments or interventions.  \n",
        "  - Accesses the **Care Recommendations** dataset using the **Fetch Recommendation** tool.  \n",
        "\n",
        "Each agent runs on a **System Prompt** + **LLM** combination for reasoning.\n",
        "\n",
        "#### 3. Tools Layer\n",
        "- Interfaces that allow agents to access external knowledge.  \n",
        "- Includes:\n",
        "  - 📄 **Fetch Patient Record**\n",
        "  - 📊 **Match Guideline**\n",
        "  - ✅ **Check Guideline Validity**\n",
        "  - 💡 **Fetch Recommendation**\n",
        "\n",
        "#### 4. Datasets Layer\n",
        "- **Patient Records**  \n",
        "- **Medical Guidelines**  \n",
        "- **Care Recommendations**  \n",
        "\n",
        "These serve as the structured data sources powering the agents’ reasoning.\n",
        "\n",
        "#### 5. Final Output\n",
        "- The **Supervisor Agent** aggregates results from the intake, guideline validation, and recommendation agents.  \n",
        "- Produces a **Final Decision Output** for clinical use."
      ]
    },
    {
      "cell_type": "markdown",
      "source": [
        "### Implement Sub-Agents (Worker Agents)"
      ],
      "metadata": {
        "id": "X7ZSkpPV5F5m"
      },
      "id": "X7ZSkpPV5F5m"
    },
    {
      "cell_type": "code",
      "execution_count": null,
      "id": "cc3b7912",
      "metadata": {
        "id": "cc3b7912"
      },
      "outputs": [],
      "source": [
        "clinical_intake_agent = create_react_agent(\n",
        "    llm,\n",
        "    tools=[fetch_patient_record],\n",
        "    prompt=SystemMessage(content=\"\"\"You are acting as a clinical intake specialist responsible for reviewing and summarizing a patient's medical case.\n",
        "\n",
        "Your responsibilities:\n",
        "1. Carefully read the symptoms, diagnosis, procedure, and notes with the right tool.\n",
        "2. Generate a medically accurate clinical summary (key points).\n",
        "3. Identify any additional risk factors or inferred clues from notes (e.g., “long flight” → immobility).\n",
        "4. Derive the clinical rationale for why the procedure may have been ordered.\n",
        "\n",
        "Your final message must clearly include:\n",
        "- A clinical summary\n",
        "- Key clinical findings (explicit or inferred)\n",
        "\n",
        "Present your output as if it’s being passed to a medical reviewer for decision-making.\n",
        "\"\"\")\n",
        ")\n",
        "\n",
        "guideline_checker_agent = create_react_agent(\n",
        "    llm,\n",
        "    tools=[match_guideline, check_guideline_validity],\n",
        "    prompt=SystemMessage(content=\"\"\"You are a utilization review specialist evaluating whether a requested procedure is medically justified.\n",
        "\n",
        "Your responsibilities:\n",
        "1. Identify the most relevant clinical guideline based on the procedure and diagnosis.\n",
        "2. If a matching guideline is found, extract the required symptoms.\n",
        "3. Then use an appropriate tool to check the guideline validity for the patient using:\n",
        "   - the patient’s documented symptoms\n",
        "   - the required symptoms from the guideline\n",
        "   - clinical notes (from the intake summary)\n",
        "\n",
        "Guidance:\n",
        "- Use clinical reasoning to validate justification.\n",
        "- If symptoms and context meet the criteria, justify the procedure clearly.\n",
        "- If not, explain why the guideline requirements are not satisfied.\n",
        "- If no matching guideline is found, state that clearly.\n",
        "\n",
        "Your message should be clear, objective, and appropriate for escalation or approval review.\n",
        "\"\"\")\n",
        ")\n",
        "\n",
        "care_recommender_agent = create_react_agent(\n",
        "    llm,\n",
        "    tools=[recommend_care_plan],\n",
        "    prompt=SystemMessage(content=\"\"\"\n",
        "You are a clinical care assistant responsible for recommending follow-up actions based on a confirmed diagnosis.\n",
        "\n",
        "Instructions:\n",
        "1. Consider the outputs from the intake and guideline checker agents.\n",
        "2. If the guideline checker has determined that the procedure is NOT justified, you must:\n",
        "   - Suggest alternate steps (e.g., reassess symptoms, collect more data), OR\n",
        "   - Justify why a care plan involving that procedure may still be warranted due to risk factors.\n",
        "3. If the guideline checker approved the procedure, proceed with care planning as usual.\n",
        "\n",
        "Important:\n",
        "- Always clarify whether your recommendation is based on an approved procedure or despite a failed guideline check.\n",
        "- Avoid assuming procedures are approved if guideline validation failed.\n",
        "\n",
        "Use precise clinical reasoning.\n",
        "\"\"\")\n",
        ")\n"
      ]
    },
    {
      "cell_type": "markdown",
      "source": [
        "### Create Supervisor Agent Node Function"
      ],
      "metadata": {
        "id": "sLBWuDP-5esE"
      },
      "id": "sLBWuDP-5esE"
    },
    {
      "cell_type": "code",
      "source": [
        "from typing import Literal\n",
        "from typing_extensions import TypedDict\n",
        "from langgraph.types import Command\n",
        "\n",
        "# Define shared state\n",
        "class State(TypedDict):\n",
        "    messages: Annotated[list, add_messages]\n",
        "\n",
        "members = [\"clinical_intake_agent\", \"guideline_checker_agent\", \"care_recommender_agent\"]\n",
        "\n",
        "SUPERVISOR_PROMPT = f\"\"\"You are a supervisor tasked with managing a healthcare utilization review conversation between the following agents:\n",
        "{members}.\n",
        "\n",
        "Each agent performs a specific part of the review process:\n",
        "- clinical_intake_agent summarizes the patient's case and rationale\n",
        "- guideline_checker_agent evaluates medical necessity against clinical guidelines\n",
        "- care_recommender_agent suggests appropriate follow-up care\n",
        "\n",
        "Read the current messages. Decide who should act next.\n",
        "If the full workflow is complete, respond with FINISH.\n",
        "\"\"\"\n",
        "\n",
        "FINAL_RESPONSE_PROMPT = \"\"\"Analyze all the results from the execution so far before making the final decision\n",
        "\n",
        "Your final response should ONLY include the following bullets in the exact format specified:\n",
        "\n",
        "- Final Decision: [APPROVED/NEEDS REVIEW]\n",
        "- Decision Reasoning: [What criteria matched or did not match]\n",
        "- Care recommendation or alternative steps: [care plan steps to take or alternative steps if it needs review]\n",
        "\n",
        "Do NOT add any other extra content in the final response\n",
        "\"\"\"\n",
        "\n",
        "class Router(TypedDict):\n",
        "    next: Literal[\"clinical_intake_agent\", \"guideline_checker_agent\", \"care_recommender_agent\", \"FINISH\"]\n",
        "\n",
        "def supervisor_node(state: State) -> Command[Literal[\"clinical_intake_agent\",\n",
        "                                                     \"guideline_checker_agent\",\n",
        "                                                     \"care_recommender_agent\",\n",
        "                                                     \"__end__\"]]:\n",
        "    # Figure out which sub-agent should act next\n",
        "    messages = [SystemMessage(content=SUPERVISOR_PROMPT)] + state[\"messages\"]\n",
        "    response = llm.with_structured_output(Router).invoke(messages)\n",
        "    goto = response[\"next\"]\n",
        "    # If all agents finished - process context and generate final response\n",
        "    if goto == \"FINISH\":\n",
        "        goto = END\n",
        "        messages = [SystemMessage(content=FINAL_RESPONSE_PROMPT)] + state[\"messages\"]\n",
        "        response = llm.invoke(messages)\n",
        "\n",
        "        return Command(goto=goto, update={\"messages\": [AIMessage(content=response.content,\n",
        "                                                                name=\"supervisor\")],\n",
        "                                          \"next\": goto})\n",
        "\n",
        "    return Command(goto=goto, update={\"next\": goto})"
      ],
      "metadata": {
        "id": "dTgVFunDJOfk"
      },
      "id": "dTgVFunDJOfk",
      "execution_count": null,
      "outputs": []
    },
    {
      "cell_type": "markdown",
      "source": [
        "### Create Sub-Agents Node Functions"
      ],
      "metadata": {
        "id": "otVctzVt5_cc"
      },
      "id": "otVctzVt5_cc"
    },
    {
      "cell_type": "code",
      "source": [
        "def clinical_intake_node(state: State) -> Command[Literal[\"supervisor\"]]:\n",
        "    result = clinical_intake_agent.invoke(state)\n",
        "    return Command(\n",
        "        update={\"messages\": [AIMessage(content=result[\"messages\"][-1].content,\n",
        "                                          name=\"clinical_intake_agent\")]},\n",
        "        goto=\"supervisor\"\n",
        "    )\n",
        "\n",
        "def guideline_checker_node(state: State) -> Command[Literal[\"supervisor\"]]:\n",
        "    result = guideline_checker_agent.invoke(state)\n",
        "    return Command(\n",
        "        update={\"messages\": [AIMessage(content=result[\"messages\"][-1].content,\n",
        "                                          name=\"guideline_checker_agent\")]},\n",
        "        goto=\"supervisor\"\n",
        "    )\n",
        "\n",
        "def care_recommender_node(state: State) -> Command[Literal[\"supervisor\"]]:\n",
        "    result = care_recommender_agent.invoke(state)\n",
        "    return Command(\n",
        "        update={\"messages\": [AIMessage(content=result[\"messages\"][-1].content,\n",
        "                                          name=\"care_recommender_agent\")]},\n",
        "        goto=\"supervisor\"\n",
        "    )"
      ],
      "metadata": {
        "id": "nDC9ZjBOLMhF"
      },
      "id": "nDC9ZjBOLMhF",
      "execution_count": null,
      "outputs": []
    },
    {
      "cell_type": "markdown",
      "source": [
        "### Build the Multi-Agent Graph"
      ],
      "metadata": {
        "id": "67Nq9ZnO6EN2"
      },
      "id": "67Nq9ZnO6EN2"
    },
    {
      "cell_type": "code",
      "source": [
        "graph_builder = StateGraph(State)\n",
        "graph_builder.add_edge(START, \"supervisor\")\n",
        "graph_builder.add_node(\"supervisor\", supervisor_node)\n",
        "graph_builder.add_node(\"clinical_intake_agent\", clinical_intake_node)\n",
        "graph_builder.add_node(\"guideline_checker_agent\", guideline_checker_node)\n",
        "graph_builder.add_node(\"care_recommender_agent\", care_recommender_node)\n",
        "\n",
        "multi_agent = graph_builder.compile()"
      ],
      "metadata": {
        "id": "Mp4TTHoALSyC"
      },
      "id": "Mp4TTHoALSyC",
      "execution_count": null,
      "outputs": []
    },
    {
      "cell_type": "code",
      "source": [
        "display(Image(multi_agent.get_graph(xray=True).draw_mermaid_png()))"
      ],
      "metadata": {
        "colab": {
          "base_uri": "https://localhost:8080/",
          "height": 514
        },
        "id": "aVWq_tFeLZ4b",
        "outputId": "2b407521-ac56-4736-d469-08e67014a2bc"
      },
      "id": "aVWq_tFeLZ4b",
      "execution_count": null,
      "outputs": [
        {
          "output_type": "display_data",
          "data": {
            "image/png": "[encoded data removed]",
            "text/plain": [
              "<IPython.core.display.Image object>"
            ]
          },
          "metadata": {}
        }
      ]
    },
    {
      "cell_type": "markdown",
      "source": [
        "### Stream Agent Exeuction"
      ],
      "metadata": {
        "id": "Ro5Im8lt8SBu"
      },
      "id": "Ro5Im8lt8SBu"
    },
    {
      "cell_type": "code",
      "source": [
        "prompt = \"Review patient P101 for procedure justification.\"\n",
        "call_agent_system(multi_agent, prompt, verbose=True)"
      ],
      "metadata": {
        "colab": {
          "base_uri": "https://localhost:8080/",
          "height": 1000
        },
        "id": "Vm62Ed9pMJEw",
        "outputId": "d38618fd-2f47-46ac-a904-b5fd2889a5d4"
      },
      "id": "Vm62Ed9pMJEw",
      "execution_count": null,
      "outputs": [
        {
          "output_type": "display_data",
          "data": {
            "text/plain": [
              "\u001b[34m╭─\u001b[0m\u001b[34m──────────────────────────────────────────────────\u001b[0m\u001b[34m 🧑 Human \u001b[0m\u001b[34m───────────────────────────────────────────────────\u001b[0m\u001b[34m─╮\u001b[0m\n",
              "\u001b[34m│\u001b[0m Review patient P101 for procedure justification.                                                                \u001b[34m│\u001b[0m\n",
              "\u001b[34m╰─────────────────────────────────────────────────────────────────────────────────────────────────────────────────╯\u001b[0m\n"
            ],
            "text/html": [
              "<pre style=\"white-space:pre;overflow-x:auto;line-height:normal;font-family:Menlo,'DejaVu Sans Mono',consolas,'Courier New',monospace\"><span style=\"color: #000080; text-decoration-color: #000080\">╭─────────────────────────────────────────────────── 🧑 Human ────────────────────────────────────────────────────╮</span>\n",
              "<span style=\"color: #000080; text-decoration-color: #000080\">│</span> Review patient P101 for procedure justification.                                                                <span style=\"color: #000080; text-decoration-color: #000080\">│</span>\n",
              "<span style=\"color: #000080; text-decoration-color: #000080\">╰─────────────────────────────────────────────────────────────────────────────────────────────────────────────────╯</span>\n",
              "</pre>\n"
            ]
          },
          "metadata": {}
        },
        {
          "output_type": "display_data",
          "data": {
            "text/plain": [
              "\u001b[32m╭─\u001b[0m\u001b[32m────────────────────────────────────────────────\u001b[0m\u001b[32m 🤖 Assistant \u001b[0m\u001b[32m─────────────────────────────────────────────────\u001b[0m\u001b[32m─╮\u001b[0m\n",
              "\u001b[32m│\u001b[0m ### Clinical Summary for Patient P101                                                                           \u001b[32m│\u001b[0m\n",
              "\u001b[32m│\u001b[0m                                                                                                                 \u001b[32m│\u001b[0m\n",
              "\u001b[32m│\u001b[0m - **Patient ID**: P101                                                                                          \u001b[32m│\u001b[0m\n",
              "\u001b[32m│\u001b[0m - **Age**: 38                                                                                                   \u001b[32m│\u001b[0m\n",
              "\u001b[32m│\u001b[0m - **Sex**: Male                                                                                                 \u001b[32m│\u001b[0m\n",
              "\u001b[32m│\u001b[0m - **Reported Symptoms**: The patient presents with abdominal pain and nausea.                                   \u001b[32m│\u001b[0m\n",
              "\u001b[32m│\u001b[0m - **Preliminary Diagnosis**: Possible early appendicitis.                                                       \u001b[32m│\u001b[0m\n",
              "\u001b[32m│\u001b[0m - **Requested Procedure**: CT Abdomen.                                                                          \u001b[32m│\u001b[0m\n",
              "\u001b[32m│\u001b[0m - **Clinical Notes**: The patient exhibits mild abdominal pain and nausea; however, there is no localized       \u001b[32m│\u001b[0m\n",
              "\u001b[32m│\u001b[0m tenderness or rebound tenderness noted.                                                                         \u001b[32m│\u001b[0m\n",
              "\u001b[32m│\u001b[0m                                                                                                                 \u001b[32m│\u001b[0m\n",
              "\u001b[32m│\u001b[0m ### Key Clinical Findings                                                                                       \u001b[32m│\u001b[0m\n",
              "\u001b[32m│\u001b[0m                                                                                                                 \u001b[32m│\u001b[0m\n",
              "\u001b[32m│\u001b[0m - **Symptoms**: Abdominal pain and nausea are common indicators of gastrointestinal issues, including           \u001b[32m│\u001b[0m\n",
              "\u001b[32m│\u001b[0m appendicitis.                                                                                                   \u001b[32m│\u001b[0m\n",
              "\u001b[32m│\u001b[0m - **Diagnosis**: The preliminary diagnosis of possible early appendicitis suggests a need for further           \u001b[32m│\u001b[0m\n",
              "\u001b[32m│\u001b[0m evaluation to confirm or rule out this condition.                                                               \u001b[32m│\u001b[0m\n",
              "\u001b[32m│\u001b[0m - **Procedure Justification**: A CT scan of the abdomen is indicated to provide detailed imaging of the         \u001b[32m│\u001b[0m\n",
              "\u001b[32m│\u001b[0m abdominal organs, which can help confirm the diagnosis of appendicitis or identify other potential causes of    \u001b[32m│\u001b[0m\n",
              "\u001b[32m│\u001b[0m the symptoms. The absence of localized tenderness may warrant imaging to ensure that no serious condition is    \u001b[32m│\u001b[0m\n",
              "\u001b[32m│\u001b[0m overlooked.                                                                                                     \u001b[32m│\u001b[0m\n",
              "\u001b[32m│\u001b[0m                                                                                                                 \u001b[32m│\u001b[0m\n",
              "\u001b[32m│\u001b[0m ### Additional Risk Factors or Inferred Clues                                                                   \u001b[32m│\u001b[0m\n",
              "\u001b[32m│\u001b[0m                                                                                                                 \u001b[32m│\u001b[0m\n",
              "\u001b[32m│\u001b[0m - The patient's age and gender (38-year-old male) are consistent with the demographic most commonly affected by \u001b[32m│\u001b[0m\n",
              "\u001b[32m│\u001b[0m appendicitis.                                                                                                   \u001b[32m│\u001b[0m\n",
              "\u001b[32m│\u001b[0m - The mild nature of the symptoms may suggest an early stage of appendicitis, where imaging is crucial for      \u001b[32m│\u001b[0m\n",
              "\u001b[32m│\u001b[0m diagnosis before the condition potentially worsens.                                                             \u001b[32m│\u001b[0m\n",
              "\u001b[32m│\u001b[0m                                                                                                                 \u001b[32m│\u001b[0m\n",
              "\u001b[32m│\u001b[0m This summary should assist in the decision-making process regarding the necessity and urgency of the requested  \u001b[32m│\u001b[0m\n",
              "\u001b[32m│\u001b[0m CT abdomen procedure.                                                                                           \u001b[32m│\u001b[0m\n",
              "\u001b[32m╰─────────────────────────────────────────────────────────────────────────────────────────────────────────────────╯\u001b[0m\n"
            ],
            "text/html": [
              "<pre style=\"white-space:pre;overflow-x:auto;line-height:normal;font-family:Menlo,'DejaVu Sans Mono',consolas,'Courier New',monospace\"><span style=\"color: #008000; text-decoration-color: #008000\">╭───────────────────────────────────────────────── 🤖 Assistant ──────────────────────────────────────────────────╮</span>\n",
              "<span style=\"color: #008000; text-decoration-color: #008000\">│</span> ### Clinical Summary for Patient P101                                                                           <span style=\"color: #008000; text-decoration-color: #008000\">│</span>\n",
              "<span style=\"color: #008000; text-decoration-color: #008000\">│</span>                                                                                                                 <span style=\"color: #008000; text-decoration-color: #008000\">│</span>\n",
              "<span style=\"color: #008000; text-decoration-color: #008000\">│</span> - **Patient ID**: P101                                                                                          <span style=\"color: #008000; text-decoration-color: #008000\">│</span>\n",
              "<span style=\"color: #008000; text-decoration-color: #008000\">│</span> - **Age**: 38                                                                                                   <span style=\"color: #008000; text-decoration-color: #008000\">│</span>\n",
              "<span style=\"color: #008000; text-decoration-color: #008000\">│</span> - **Sex**: Male                                                                                                 <span style=\"color: #008000; text-decoration-color: #008000\">│</span>\n",
              "<span style=\"color: #008000; text-decoration-color: #008000\">│</span> - **Reported Symptoms**: The patient presents with abdominal pain and nausea.                                   <span style=\"color: #008000; text-decoration-color: #008000\">│</span>\n",
              "<span style=\"color: #008000; text-decoration-color: #008000\">│</span> - **Preliminary Diagnosis**: Possible early appendicitis.                                                       <span style=\"color: #008000; text-decoration-color: #008000\">│</span>\n",
              "<span style=\"color: #008000; text-decoration-color: #008000\">│</span> - **Requested Procedure**: CT Abdomen.                                                                          <span style=\"color: #008000; text-decoration-color: #008000\">│</span>\n",
              "<span style=\"color: #008000; text-decoration-color: #008000\">│</span> - **Clinical Notes**: The patient exhibits mild abdominal pain and nausea; however, there is no localized       <span style=\"color: #008000; text-decoration-color: #008000\">│</span>\n",
              "<span style=\"color: #008000; text-decoration-color: #008000\">│</span> tenderness or rebound tenderness noted.                                                                         <span style=\"color: #008000; text-decoration-color: #008000\">│</span>\n",
              "<span style=\"color: #008000; text-decoration-color: #008000\">│</span>                                                                                                                 <span style=\"color: #008000; text-decoration-color: #008000\">│</span>\n",
              "<span style=\"color: #008000; text-decoration-color: #008000\">│</span> ### Key Clinical Findings                                                                                       <span style=\"color: #008000; text-decoration-color: #008000\">│</span>\n",
              "<span style=\"color: #008000; text-decoration-color: #008000\">│</span>                                                                                                                 <span style=\"color: #008000; text-decoration-color: #008000\">│</span>\n",
              "<span style=\"color: #008000; text-decoration-color: #008000\">│</span> - **Symptoms**: Abdominal pain and nausea are common indicators of gastrointestinal issues, including           <span style=\"color: #008000; text-decoration-color: #008000\">│</span>\n",
              "<span style=\"color: #008000; text-decoration-color: #008000\">│</span> appendicitis.                                                                                                   <span style=\"color: #008000; text-decoration-color: #008000\">│</span>\n",
              "<span style=\"color: #008000; text-decoration-color: #008000\">│</span> - **Diagnosis**: The preliminary diagnosis of possible early appendicitis suggests a need for further           <span style=\"color: #008000; text-decoration-color: #008000\">│</span>\n",
              "<span style=\"color: #008000; text-decoration-color: #008000\">│</span> evaluation to confirm or rule out this condition.                                                               <span style=\"color: #008000; text-decoration-color: #008000\">│</span>\n",
              "<span style=\"color: #008000; text-decoration-color: #008000\">│</span> - **Procedure Justification**: A CT scan of the abdomen is indicated to provide detailed imaging of the         <span style=\"color: #008000; text-decoration-color: #008000\">│</span>\n",
              "<span style=\"color: #008000; text-decoration-color: #008000\">│</span> abdominal organs, which can help confirm the diagnosis of appendicitis or identify other potential causes of    <span style=\"color: #008000; text-decoration-color: #008000\">│</span>\n",
              "<span style=\"color: #008000; text-decoration-color: #008000\">│</span> the symptoms. The absence of localized tenderness may warrant imaging to ensure that no serious condition is    <span style=\"color: #008000; text-decoration-color: #008000\">│</span>\n",
              "<span style=\"color: #008000; text-decoration-color: #008000\">│</span> overlooked.                                                                                                     <span style=\"color: #008000; text-decoration-color: #008000\">│</span>\n",
              "<span style=\"color: #008000; text-decoration-color: #008000\">│</span>                                                                                                                 <span style=\"color: #008000; text-decoration-color: #008000\">│</span>\n",
              "<span style=\"color: #008000; text-decoration-color: #008000\">│</span> ### Additional Risk Factors or Inferred Clues                                                                   <span style=\"color: #008000; text-decoration-color: #008000\">│</span>\n",
              "<span style=\"color: #008000; text-decoration-color: #008000\">│</span>                                                                                                                 <span style=\"color: #008000; text-decoration-color: #008000\">│</span>\n",
              "<span style=\"color: #008000; text-decoration-color: #008000\">│</span> - The patient's age and gender (38-year-old male) are consistent with the demographic most commonly affected by <span style=\"color: #008000; text-decoration-color: #008000\">│</span>\n",
              "<span style=\"color: #008000; text-decoration-color: #008000\">│</span> appendicitis.                                                                                                   <span style=\"color: #008000; text-decoration-color: #008000\">│</span>\n",
              "<span style=\"color: #008000; text-decoration-color: #008000\">│</span> - The mild nature of the symptoms may suggest an early stage of appendicitis, where imaging is crucial for      <span style=\"color: #008000; text-decoration-color: #008000\">│</span>\n",
              "<span style=\"color: #008000; text-decoration-color: #008000\">│</span> diagnosis before the condition potentially worsens.                                                             <span style=\"color: #008000; text-decoration-color: #008000\">│</span>\n",
              "<span style=\"color: #008000; text-decoration-color: #008000\">│</span>                                                                                                                 <span style=\"color: #008000; text-decoration-color: #008000\">│</span>\n",
              "<span style=\"color: #008000; text-decoration-color: #008000\">│</span> This summary should assist in the decision-making process regarding the necessity and urgency of the requested  <span style=\"color: #008000; text-decoration-color: #008000\">│</span>\n",
              "<span style=\"color: #008000; text-decoration-color: #008000\">│</span> CT abdomen procedure.                                                                                           <span style=\"color: #008000; text-decoration-color: #008000\">│</span>\n",
              "<span style=\"color: #008000; text-decoration-color: #008000\">╰─────────────────────────────────────────────────────────────────────────────────────────────────────────────────╯</span>\n",
              "</pre>\n"
            ]
          },
          "metadata": {}
        },
        {
          "output_type": "display_data",
          "data": {
            "text/plain": [
              "\u001b[32m╭─\u001b[0m\u001b[32m────────────────────────────────────────────────\u001b[0m\u001b[32m 🤖 Assistant \u001b[0m\u001b[32m─────────────────────────────────────────────────\u001b[0m\u001b[32m─╮\u001b[0m\n",
              "\u001b[32m│\u001b[0m ### Review of Procedure Justification for Patient P101                                                          \u001b[32m│\u001b[0m\n",
              "\u001b[32m│\u001b[0m                                                                                                                 \u001b[32m│\u001b[0m\n",
              "\u001b[32m│\u001b[0m **Procedure Requested**: CT Abdomen                                                                             \u001b[32m│\u001b[0m\n",
              "\u001b[32m│\u001b[0m **Diagnosis**: Possible early appendicitis                                                                      \u001b[32m│\u001b[0m\n",
              "\u001b[32m│\u001b[0m **Matched Guideline**: CT Abdomen for Suspected Appendicitis                                                    \u001b[32m│\u001b[0m\n",
              "\u001b[32m│\u001b[0m **Required Symptoms**:                                                                                          \u001b[32m│\u001b[0m\n",
              "\u001b[32m│\u001b[0m - Abdominal pain                                                                                                \u001b[32m│\u001b[0m\n",
              "\u001b[32m│\u001b[0m - Nausea                                                                                                        \u001b[32m│\u001b[0m\n",
              "\u001b[32m│\u001b[0m - RLQ tenderness                                                                                                \u001b[32m│\u001b[0m\n",
              "\u001b[32m│\u001b[0m                                                                                                                 \u001b[32m│\u001b[0m\n",
              "\u001b[32m│\u001b[0m ### Patient's Documented Symptoms                                                                               \u001b[32m│\u001b[0m\n",
              "\u001b[32m│\u001b[0m - Abdominal pain                                                                                                \u001b[32m│\u001b[0m\n",
              "\u001b[32m│\u001b[0m - Nausea                                                                                                        \u001b[32m│\u001b[0m\n",
              "\u001b[32m│\u001b[0m                                                                                                                 \u001b[32m│\u001b[0m\n",
              "\u001b[32m│\u001b[0m ### Clinical Notes                                                                                              \u001b[32m│\u001b[0m\n",
              "\u001b[32m│\u001b[0m The patient exhibits mild abdominal pain and nausea; however, there is no localized tenderness or rebound       \u001b[32m│\u001b[0m\n",
              "\u001b[32m│\u001b[0m tenderness noted.                                                                                               \u001b[32m│\u001b[0m\n",
              "\u001b[32m│\u001b[0m                                                                                                                 \u001b[32m│\u001b[0m\n",
              "\u001b[32m│\u001b[0m ### Evaluation of Justification                                                                                 \u001b[32m│\u001b[0m\n",
              "\u001b[32m│\u001b[0m The patient's symptoms of abdominal pain and nausea align with two of the three required symptoms from the      \u001b[32m│\u001b[0m\n",
              "\u001b[32m│\u001b[0m guideline. However, the guideline specifies that right lower quadrant (RLQ) tenderness is also necessary for    \u001b[32m│\u001b[0m\n",
              "\u001b[32m│\u001b[0m the procedure request to be considered medically necessary.                                                     \u001b[32m│\u001b[0m\n",
              "\u001b[32m│\u001b[0m                                                                                                                 \u001b[32m│\u001b[0m\n",
              "\u001b[32m│\u001b[0m **Key Finding**: The clinical notes indicate that the patient does not exhibit RLQ tenderness, which is a       \u001b[32m│\u001b[0m\n",
              "\u001b[32m│\u001b[0m critical component of the guideline criteria.                                                                   \u001b[32m│\u001b[0m\n",
              "\u001b[32m│\u001b[0m                                                                                                                 \u001b[32m│\u001b[0m\n",
              "\u001b[32m│\u001b[0m ### Conclusion                                                                                                  \u001b[32m│\u001b[0m\n",
              "\u001b[32m│\u001b[0m The procedure request for a CT Abdomen does not qualify as medically necessary because the patient does not     \u001b[32m│\u001b[0m\n",
              "\u001b[32m│\u001b[0m meet the requirement for RLQ tenderness, which is essential according to the guidelines. Therefore, the unmet   \u001b[32m│\u001b[0m\n",
              "\u001b[32m│\u001b[0m criterion is the absence of RLQ tenderness.                                                                     \u001b[32m│\u001b[0m\n",
              "\u001b[32m│\u001b[0m                                                                                                                 \u001b[32m│\u001b[0m\n",
              "\u001b[32m│\u001b[0m **Recommendation**: Consider alternative diagnostic approaches or further clinical evaluation before proceeding \u001b[32m│\u001b[0m\n",
              "\u001b[32m│\u001b[0m with the CT Abdomen.                                                                                            \u001b[32m│\u001b[0m\n",
              "\u001b[32m╰─────────────────────────────────────────────────────────────────────────────────────────────────────────────────╯\u001b[0m\n"
            ],
            "text/html": [
              "<pre style=\"white-space:pre;overflow-x:auto;line-height:normal;font-family:Menlo,'DejaVu Sans Mono',consolas,'Courier New',monospace\"><span style=\"color: #008000; text-decoration-color: #008000\">╭───────────────────────────────────────────────── 🤖 Assistant ──────────────────────────────────────────────────╮</span>\n",
              "<span style=\"color: #008000; text-decoration-color: #008000\">│</span> ### Review of Procedure Justification for Patient P101                                                          <span style=\"color: #008000; text-decoration-color: #008000\">│</span>\n",
              "<span style=\"color: #008000; text-decoration-color: #008000\">│</span>                                                                                                                 <span style=\"color: #008000; text-decoration-color: #008000\">│</span>\n",
              "<span style=\"color: #008000; text-decoration-color: #008000\">│</span> **Procedure Requested**: CT Abdomen                                                                             <span style=\"color: #008000; text-decoration-color: #008000\">│</span>\n",
              "<span style=\"color: #008000; text-decoration-color: #008000\">│</span> **Diagnosis**: Possible early appendicitis                                                                      <span style=\"color: #008000; text-decoration-color: #008000\">│</span>\n",
              "<span style=\"color: #008000; text-decoration-color: #008000\">│</span> **Matched Guideline**: CT Abdomen for Suspected Appendicitis                                                    <span style=\"color: #008000; text-decoration-color: #008000\">│</span>\n",
              "<span style=\"color: #008000; text-decoration-color: #008000\">│</span> **Required Symptoms**:                                                                                          <span style=\"color: #008000; text-decoration-color: #008000\">│</span>\n",
              "<span style=\"color: #008000; text-decoration-color: #008000\">│</span> - Abdominal pain                                                                                                <span style=\"color: #008000; text-decoration-color: #008000\">│</span>\n",
              "<span style=\"color: #008000; text-decoration-color: #008000\">│</span> - Nausea                                                                                                        <span style=\"color: #008000; text-decoration-color: #008000\">│</span>\n",
              "<span style=\"color: #008000; text-decoration-color: #008000\">│</span> - RLQ tenderness                                                                                                <span style=\"color: #008000; text-decoration-color: #008000\">│</span>\n",
              "<span style=\"color: #008000; text-decoration-color: #008000\">│</span>                                                                                                                 <span style=\"color: #008000; text-decoration-color: #008000\">│</span>\n",
              "<span style=\"color: #008000; text-decoration-color: #008000\">│</span> ### Patient's Documented Symptoms                                                                               <span style=\"color: #008000; text-decoration-color: #008000\">│</span>\n",
              "<span style=\"color: #008000; text-decoration-color: #008000\">│</span> - Abdominal pain                                                                                                <span style=\"color: #008000; text-decoration-color: #008000\">│</span>\n",
              "<span style=\"color: #008000; text-decoration-color: #008000\">│</span> - Nausea                                                                                                        <span style=\"color: #008000; text-decoration-color: #008000\">│</span>\n",
              "<span style=\"color: #008000; text-decoration-color: #008000\">│</span>                                                                                                                 <span style=\"color: #008000; text-decoration-color: #008000\">│</span>\n",
              "<span style=\"color: #008000; text-decoration-color: #008000\">│</span> ### Clinical Notes                                                                                              <span style=\"color: #008000; text-decoration-color: #008000\">│</span>\n",
              "<span style=\"color: #008000; text-decoration-color: #008000\">│</span> The patient exhibits mild abdominal pain and nausea; however, there is no localized tenderness or rebound       <span style=\"color: #008000; text-decoration-color: #008000\">│</span>\n",
              "<span style=\"color: #008000; text-decoration-color: #008000\">│</span> tenderness noted.                                                                                               <span style=\"color: #008000; text-decoration-color: #008000\">│</span>\n",
              "<span style=\"color: #008000; text-decoration-color: #008000\">│</span>                                                                                                                 <span style=\"color: #008000; text-decoration-color: #008000\">│</span>\n",
              "<span style=\"color: #008000; text-decoration-color: #008000\">│</span> ### Evaluation of Justification                                                                                 <span style=\"color: #008000; text-decoration-color: #008000\">│</span>\n",
              "<span style=\"color: #008000; text-decoration-color: #008000\">│</span> The patient's symptoms of abdominal pain and nausea align with two of the three required symptoms from the      <span style=\"color: #008000; text-decoration-color: #008000\">│</span>\n",
              "<span style=\"color: #008000; text-decoration-color: #008000\">│</span> guideline. However, the guideline specifies that right lower quadrant (RLQ) tenderness is also necessary for    <span style=\"color: #008000; text-decoration-color: #008000\">│</span>\n",
              "<span style=\"color: #008000; text-decoration-color: #008000\">│</span> the procedure request to be considered medically necessary.                                                     <span style=\"color: #008000; text-decoration-color: #008000\">│</span>\n",
              "<span style=\"color: #008000; text-decoration-color: #008000\">│</span>                                                                                                                 <span style=\"color: #008000; text-decoration-color: #008000\">│</span>\n",
              "<span style=\"color: #008000; text-decoration-color: #008000\">│</span> **Key Finding**: The clinical notes indicate that the patient does not exhibit RLQ tenderness, which is a       <span style=\"color: #008000; text-decoration-color: #008000\">│</span>\n",
              "<span style=\"color: #008000; text-decoration-color: #008000\">│</span> critical component of the guideline criteria.                                                                   <span style=\"color: #008000; text-decoration-color: #008000\">│</span>\n",
              "<span style=\"color: #008000; text-decoration-color: #008000\">│</span>                                                                                                                 <span style=\"color: #008000; text-decoration-color: #008000\">│</span>\n",
              "<span style=\"color: #008000; text-decoration-color: #008000\">│</span> ### Conclusion                                                                                                  <span style=\"color: #008000; text-decoration-color: #008000\">│</span>\n",
              "<span style=\"color: #008000; text-decoration-color: #008000\">│</span> The procedure request for a CT Abdomen does not qualify as medically necessary because the patient does not     <span style=\"color: #008000; text-decoration-color: #008000\">│</span>\n",
              "<span style=\"color: #008000; text-decoration-color: #008000\">│</span> meet the requirement for RLQ tenderness, which is essential according to the guidelines. Therefore, the unmet   <span style=\"color: #008000; text-decoration-color: #008000\">│</span>\n",
              "<span style=\"color: #008000; text-decoration-color: #008000\">│</span> criterion is the absence of RLQ tenderness.                                                                     <span style=\"color: #008000; text-decoration-color: #008000\">│</span>\n",
              "<span style=\"color: #008000; text-decoration-color: #008000\">│</span>                                                                                                                 <span style=\"color: #008000; text-decoration-color: #008000\">│</span>\n",
              "<span style=\"color: #008000; text-decoration-color: #008000\">│</span> **Recommendation**: Consider alternative diagnostic approaches or further clinical evaluation before proceeding <span style=\"color: #008000; text-decoration-color: #008000\">│</span>\n",
              "<span style=\"color: #008000; text-decoration-color: #008000\">│</span> with the CT Abdomen.                                                                                            <span style=\"color: #008000; text-decoration-color: #008000\">│</span>\n",
              "<span style=\"color: #008000; text-decoration-color: #008000\">╰─────────────────────────────────────────────────────────────────────────────────────────────────────────────────╯</span>\n",
              "</pre>\n"
            ]
          },
          "metadata": {}
        },
        {
          "output_type": "display_data",
          "data": {
            "text/plain": [
              "\u001b[32m╭─\u001b[0m\u001b[32m────────────────────────────────────────────────\u001b[0m\u001b[32m 🤖 Assistant \u001b[0m\u001b[32m─────────────────────────────────────────────────\u001b[0m\u001b[32m─╮\u001b[0m\n",
              "\u001b[32m│\u001b[0m The guideline checker has determined that the procedure (CT Abdomen) is NOT justified due to the absence of     \u001b[32m│\u001b[0m\n",
              "\u001b[32m│\u001b[0m right lower quadrant (RLQ) tenderness, which is a critical requirement for the procedure in cases of suspected  \u001b[32m│\u001b[0m\n",
              "\u001b[32m│\u001b[0m appendicitis.                                                                                                   \u001b[32m│\u001b[0m\n",
              "\u001b[32m│\u001b[0m                                                                                                                 \u001b[32m│\u001b[0m\n",
              "\u001b[32m│\u001b[0m ### Recommendations Based on Findings:                                                                          \u001b[32m│\u001b[0m\n",
              "\u001b[32m│\u001b[0m                                                                                                                 \u001b[32m│\u001b[0m\n",
              "\u001b[32m│\u001b[0m 1. **For Possible Early Appendicitis**:                                                                         \u001b[32m│\u001b[0m\n",
              "\u001b[32m│\u001b[0m    - **Recommendation**: While the CT scan is typically indicated to confirm appendicitis, the absence of RLQ   \u001b[32m│\u001b[0m\n",
              "\u001b[32m│\u001b[0m tenderness suggests that immediate imaging may not be warranted. Instead, consider:                             \u001b[32m│\u001b[0m\n",
              "\u001b[32m│\u001b[0m      - **Reassessing Symptoms**: Monitor the patient closely for any changes in symptoms, particularly the      \u001b[32m│\u001b[0m\n",
              "\u001b[32m│\u001b[0m development of RLQ tenderness or worsening pain.                                                                \u001b[32m│\u001b[0m\n",
              "\u001b[32m│\u001b[0m      - **Collecting More Data**: Conduct a thorough physical examination and consider laboratory tests (e.g.,   \u001b[32m│\u001b[0m\n",
              "\u001b[32m│\u001b[0m CBC, urinalysis) to gather more information before deciding on imaging.                                         \u001b[32m│\u001b[0m\n",
              "\u001b[32m│\u001b[0m                                                                                                                 \u001b[32m│\u001b[0m\n",
              "\u001b[32m│\u001b[0m 2. **For Abdominal Pain and Nausea Without RLQ Tenderness**:                                                    \u001b[32m│\u001b[0m\n",
              "\u001b[32m│\u001b[0m    - **Recommendation**: No specific care recommendation was found for this diagnosis. However, it is essential \u001b[32m│\u001b[0m\n",
              "\u001b[32m│\u001b[0m to:                                                                                                             \u001b[32m│\u001b[0m\n",
              "\u001b[32m│\u001b[0m      - **Monitor Symptoms**: Keep track of the patient's symptoms and any new developments.                     \u001b[32m│\u001b[0m\n",
              "\u001b[32m│\u001b[0m      - **Consider Alternative Diagnoses**: Evaluate for other potential causes of abdominal pain and nausea,    \u001b[32m│\u001b[0m\n",
              "\u001b[32m│\u001b[0m such as gastrointestinal infections or other non-appendiceal conditions.                                        \u001b[32m│\u001b[0m\n",
              "\u001b[32m│\u001b[0m                                                                                                                 \u001b[32m│\u001b[0m\n",
              "\u001b[32m│\u001b[0m ### Summary                                                                                                     \u001b[32m│\u001b[0m\n",
              "\u001b[32m│\u001b[0m While the initial suspicion of appendicitis exists, the lack of RLQ tenderness necessitates a more cautious     \u001b[32m│\u001b[0m\n",
              "\u001b[32m│\u001b[0m approach. Close monitoring and further evaluation are recommended before proceeding with any imaging or         \u001b[32m│\u001b[0m\n",
              "\u001b[32m│\u001b[0m invasive procedures.                                                                                            \u001b[32m│\u001b[0m\n",
              "\u001b[32m╰─────────────────────────────────────────────────────────────────────────────────────────────────────────────────╯\u001b[0m\n"
            ],
            "text/html": [
              "<pre style=\"white-space:pre;overflow-x:auto;line-height:normal;font-family:Menlo,'DejaVu Sans Mono',consolas,'Courier New',monospace\"><span style=\"color: #008000; text-decoration-color: #008000\">╭───────────────────────────────────────────────── 🤖 Assistant ──────────────────────────────────────────────────╮</span>\n",
              "<span style=\"color: #008000; text-decoration-color: #008000\">│</span> The guideline checker has determined that the procedure (CT Abdomen) is NOT justified due to the absence of     <span style=\"color: #008000; text-decoration-color: #008000\">│</span>\n",
              "<span style=\"color: #008000; text-decoration-color: #008000\">│</span> right lower quadrant (RLQ) tenderness, which is a critical requirement for the procedure in cases of suspected  <span style=\"color: #008000; text-decoration-color: #008000\">│</span>\n",
              "<span style=\"color: #008000; text-decoration-color: #008000\">│</span> appendicitis.                                                                                                   <span style=\"color: #008000; text-decoration-color: #008000\">│</span>\n",
              "<span style=\"color: #008000; text-decoration-color: #008000\">│</span>                                                                                                                 <span style=\"color: #008000; text-decoration-color: #008000\">│</span>\n",
              "<span style=\"color: #008000; text-decoration-color: #008000\">│</span> ### Recommendations Based on Findings:                                                                          <span style=\"color: #008000; text-decoration-color: #008000\">│</span>\n",
              "<span style=\"color: #008000; text-decoration-color: #008000\">│</span>                                                                                                                 <span style=\"color: #008000; text-decoration-color: #008000\">│</span>\n",
              "<span style=\"color: #008000; text-decoration-color: #008000\">│</span> 1. **For Possible Early Appendicitis**:                                                                         <span style=\"color: #008000; text-decoration-color: #008000\">│</span>\n",
              "<span style=\"color: #008000; text-decoration-color: #008000\">│</span>    - **Recommendation**: While the CT scan is typically indicated to confirm appendicitis, the absence of RLQ   <span style=\"color: #008000; text-decoration-color: #008000\">│</span>\n",
              "<span style=\"color: #008000; text-decoration-color: #008000\">│</span> tenderness suggests that immediate imaging may not be warranted. Instead, consider:                             <span style=\"color: #008000; text-decoration-color: #008000\">│</span>\n",
              "<span style=\"color: #008000; text-decoration-color: #008000\">│</span>      - **Reassessing Symptoms**: Monitor the patient closely for any changes in symptoms, particularly the      <span style=\"color: #008000; text-decoration-color: #008000\">│</span>\n",
              "<span style=\"color: #008000; text-decoration-color: #008000\">│</span> development of RLQ tenderness or worsening pain.                                                                <span style=\"color: #008000; text-decoration-color: #008000\">│</span>\n",
              "<span style=\"color: #008000; text-decoration-color: #008000\">│</span>      - **Collecting More Data**: Conduct a thorough physical examination and consider laboratory tests (e.g.,   <span style=\"color: #008000; text-decoration-color: #008000\">│</span>\n",
              "<span style=\"color: #008000; text-decoration-color: #008000\">│</span> CBC, urinalysis) to gather more information before deciding on imaging.                                         <span style=\"color: #008000; text-decoration-color: #008000\">│</span>\n",
              "<span style=\"color: #008000; text-decoration-color: #008000\">│</span>                                                                                                                 <span style=\"color: #008000; text-decoration-color: #008000\">│</span>\n",
              "<span style=\"color: #008000; text-decoration-color: #008000\">│</span> 2. **For Abdominal Pain and Nausea Without RLQ Tenderness**:                                                    <span style=\"color: #008000; text-decoration-color: #008000\">│</span>\n",
              "<span style=\"color: #008000; text-decoration-color: #008000\">│</span>    - **Recommendation**: No specific care recommendation was found for this diagnosis. However, it is essential <span style=\"color: #008000; text-decoration-color: #008000\">│</span>\n",
              "<span style=\"color: #008000; text-decoration-color: #008000\">│</span> to:                                                                                                             <span style=\"color: #008000; text-decoration-color: #008000\">│</span>\n",
              "<span style=\"color: #008000; text-decoration-color: #008000\">│</span>      - **Monitor Symptoms**: Keep track of the patient's symptoms and any new developments.                     <span style=\"color: #008000; text-decoration-color: #008000\">│</span>\n",
              "<span style=\"color: #008000; text-decoration-color: #008000\">│</span>      - **Consider Alternative Diagnoses**: Evaluate for other potential causes of abdominal pain and nausea,    <span style=\"color: #008000; text-decoration-color: #008000\">│</span>\n",
              "<span style=\"color: #008000; text-decoration-color: #008000\">│</span> such as gastrointestinal infections or other non-appendiceal conditions.                                        <span style=\"color: #008000; text-decoration-color: #008000\">│</span>\n",
              "<span style=\"color: #008000; text-decoration-color: #008000\">│</span>                                                                                                                 <span style=\"color: #008000; text-decoration-color: #008000\">│</span>\n",
              "<span style=\"color: #008000; text-decoration-color: #008000\">│</span> ### Summary                                                                                                     <span style=\"color: #008000; text-decoration-color: #008000\">│</span>\n",
              "<span style=\"color: #008000; text-decoration-color: #008000\">│</span> While the initial suspicion of appendicitis exists, the lack of RLQ tenderness necessitates a more cautious     <span style=\"color: #008000; text-decoration-color: #008000\">│</span>\n",
              "<span style=\"color: #008000; text-decoration-color: #008000\">│</span> approach. Close monitoring and further evaluation are recommended before proceeding with any imaging or         <span style=\"color: #008000; text-decoration-color: #008000\">│</span>\n",
              "<span style=\"color: #008000; text-decoration-color: #008000\">│</span> invasive procedures.                                                                                            <span style=\"color: #008000; text-decoration-color: #008000\">│</span>\n",
              "<span style=\"color: #008000; text-decoration-color: #008000\">╰─────────────────────────────────────────────────────────────────────────────────────────────────────────────────╯</span>\n",
              "</pre>\n"
            ]
          },
          "metadata": {}
        },
        {
          "output_type": "display_data",
          "data": {
            "text/plain": [
              "\u001b[32m╭─\u001b[0m\u001b[32m────────────────────────────────────────────────\u001b[0m\u001b[32m 🤖 Assistant \u001b[0m\u001b[32m─────────────────────────────────────────────────\u001b[0m\u001b[32m─╮\u001b[0m\n",
              "\u001b[32m│\u001b[0m - Final Decision: NEEDS REVIEW                                                                                  \u001b[32m│\u001b[0m\n",
              "\u001b[32m│\u001b[0m - Decision Reasoning: The procedure request for a CT Abdomen does not meet the guideline criteria due to the    \u001b[32m│\u001b[0m\n",
              "\u001b[32m│\u001b[0m absence of right lower quadrant (RLQ) tenderness, which is essential for suspected appendicitis.                \u001b[32m│\u001b[0m\n",
              "\u001b[32m│\u001b[0m - Care recommendation or alternative steps: Monitor the patient closely for changes in symptoms, conduct a      \u001b[32m│\u001b[0m\n",
              "\u001b[32m│\u001b[0m thorough physical examination, and consider laboratory tests before deciding on imaging.                        \u001b[32m│\u001b[0m\n",
              "\u001b[32m╰─────────────────────────────────────────────────────────────────────────────────────────────────────────────────╯\u001b[0m\n"
            ],
            "text/html": [
              "<pre style=\"white-space:pre;overflow-x:auto;line-height:normal;font-family:Menlo,'DejaVu Sans Mono',consolas,'Courier New',monospace\"><span style=\"color: #008000; text-decoration-color: #008000\">╭───────────────────────────────────────────────── 🤖 Assistant ──────────────────────────────────────────────────╮</span>\n",
              "<span style=\"color: #008000; text-decoration-color: #008000\">│</span> - Final Decision: NEEDS REVIEW                                                                                  <span style=\"color: #008000; text-decoration-color: #008000\">│</span>\n",
              "<span style=\"color: #008000; text-decoration-color: #008000\">│</span> - Decision Reasoning: The procedure request for a CT Abdomen does not meet the guideline criteria due to the    <span style=\"color: #008000; text-decoration-color: #008000\">│</span>\n",
              "<span style=\"color: #008000; text-decoration-color: #008000\">│</span> absence of right lower quadrant (RLQ) tenderness, which is essential for suspected appendicitis.                <span style=\"color: #008000; text-decoration-color: #008000\">│</span>\n",
              "<span style=\"color: #008000; text-decoration-color: #008000\">│</span> - Care recommendation or alternative steps: Monitor the patient closely for changes in symptoms, conduct a      <span style=\"color: #008000; text-decoration-color: #008000\">│</span>\n",
              "<span style=\"color: #008000; text-decoration-color: #008000\">│</span> thorough physical examination, and consider laboratory tests before deciding on imaging.                        <span style=\"color: #008000; text-decoration-color: #008000\">│</span>\n",
              "<span style=\"color: #008000; text-decoration-color: #008000\">╰─────────────────────────────────────────────────────────────────────────────────────────────────────────────────╯</span>\n",
              "</pre>\n"
            ]
          },
          "metadata": {}
        },
        {
          "output_type": "stream",
          "name": "stdout",
          "text": [
            "\n",
            "\n",
            "Final Response:\n"
          ]
        },
        {
          "output_type": "display_data",
          "data": {
            "text/plain": [
              "<IPython.core.display.Markdown object>"
            ],
            "text/markdown": "- Final Decision: NEEDS REVIEW\n- Decision Reasoning: The procedure request for a CT Abdomen does not meet the guideline criteria due to the absence of right lower quadrant (RLQ) tenderness, which is essential for suspected appendicitis.\n- Care recommendation or alternative steps: Monitor the patient closely for changes in symptoms, conduct a thorough physical examination, and consider laboratory tests before deciding on imaging."
          },
          "metadata": {}
        }
      ]
    },
    {
      "cell_type": "markdown",
      "source": [
        "## Test Execution Times of Single vs. Multi-Agent"
      ],
      "metadata": {
        "id": "y6VLR9ES8Tgv"
      },
      "id": "y6VLR9ES8Tgv"
    },
    {
      "cell_type": "code",
      "source": [
        "def run_review():\n",
        "    prompt = \"Review patient P102 for procedure justification.\"\n",
        "    call_agent_system(single_agent, prompt, verbose=False)\n",
        "\n",
        "%timeit -n 1 -r 3 run_review()"
      ],
      "metadata": {
        "colab": {
          "base_uri": "https://localhost:8080/",
          "height": 470
        },
        "id": "iBJb_CmlSY1y",
        "outputId": "5caed01b-d4be-40e9-bcd0-311f29241059"
      },
      "id": "iBJb_CmlSY1y",
      "execution_count": null,
      "outputs": [
        {
          "output_type": "stream",
          "name": "stdout",
          "text": [
            "\n",
            "\n",
            "Final Response:\n"
          ]
        },
        {
          "output_type": "display_data",
          "data": {
            "text/plain": [
              "<IPython.core.display.Markdown object>"
            ],
            "text/markdown": "- Final Decision: APPROVED\n- Decision Reasoning: The requested CT Chest procedure aligns with clinical guidelines for suspected pulmonary embolism, as the patient presents with required symptoms (chest pain, shortness of breath, tachycardia) and has a high probability Wells score with a positive D-dimer.\n- Care recommendation or alternative steps: Begin anticoagulation and confirm with CTPA."
          },
          "metadata": {}
        },
        {
          "output_type": "stream",
          "name": "stdout",
          "text": [
            "\n",
            "\n",
            "Final Response:\n"
          ]
        },
        {
          "output_type": "display_data",
          "data": {
            "text/plain": [
              "<IPython.core.display.Markdown object>"
            ],
            "text/markdown": "- Final Decision: APPROVED\n- Decision Reasoning: The patient's symptoms (chest pain, shortness of breath, tachycardia) match the required symptoms for the CT Chest procedure as per the guideline for suspected pulmonary embolism (PE). The clinical context (high probability Wells score and positive D-dimer) further supports the medical necessity of the procedure.\n- Care recommendation or alternative steps: Begin anticoagulation and confirm with CTPA."
          },
          "metadata": {}
        },
        {
          "output_type": "stream",
          "name": "stdout",
          "text": [
            "\n",
            "\n",
            "Final Response:\n"
          ]
        },
        {
          "output_type": "display_data",
          "data": {
            "text/plain": [
              "<IPython.core.display.Markdown object>"
            ],
            "text/markdown": "- Final Decision: APPROVED\n- Decision Reasoning: The patient's symptoms (chest pain, shortness of breath, tachycardia) match the required symptoms for the CT Chest procedure as per the guideline for suspected pulmonary embolism (PE). The clinical context (high Wells score and positive D-dimer) supports the medical necessity of the procedure.\n- Care recommendation or alternative steps: Begin anticoagulation and confirm with CTPA."
          },
          "metadata": {}
        },
        {
          "output_type": "stream",
          "name": "stdout",
          "text": [
            "14.9 s ± 597 ms per loop (mean ± std. dev. of 3 runs, 1 loop each)\n"
          ]
        }
      ]
    },
    {
      "cell_type": "code",
      "source": [
        "def run_review():\n",
        "    prompt = \"Review patient P102 for procedure justification.\"\n",
        "    call_agent_system(multi_agent, prompt, verbose=False)\n",
        "\n",
        "%timeit -n 1 -r 3 run_review()"
      ],
      "metadata": {
        "colab": {
          "base_uri": "https://localhost:8080/",
          "height": 452
        },
        "id": "p1TGTdrYSjow",
        "outputId": "addc4fb2-9db8-4b5d-c6fc-0e399c3fb410"
      },
      "id": "p1TGTdrYSjow",
      "execution_count": null,
      "outputs": [
        {
          "output_type": "stream",
          "name": "stdout",
          "text": [
            "\n",
            "\n",
            "Final Response:\n"
          ]
        },
        {
          "output_type": "display_data",
          "data": {
            "text/plain": [
              "<IPython.core.display.Markdown object>"
            ],
            "text/markdown": "- Final Decision: APPROVED\n- Decision Reasoning: The patient's symptoms, high Wells score, and positive D-dimer test align with clinical guidelines indicating the need for a CT Chest to evaluate for pulmonary embolism.\n- Care recommendation or alternative steps: Proceed with the CT Chest and initiate anticoagulation therapy to manage the suspected pulmonary embolism."
          },
          "metadata": {}
        },
        {
          "output_type": "stream",
          "name": "stdout",
          "text": [
            "\n",
            "\n",
            "Final Response:\n"
          ]
        },
        {
          "output_type": "display_data",
          "data": {
            "text/plain": [
              "<IPython.core.display.Markdown object>"
            ],
            "text/markdown": "- Final Decision: APPROVED\n- Decision Reasoning: The procedure is justified based on the patient's symptoms, high Wells score, and positive D-dimer test, aligning with clinical guidelines for suspected pulmonary embolism.\n- Care recommendation or alternative steps: Proceed with the CT Chest and initiate anticoagulation therapy to manage the suspected pulmonary embolism."
          },
          "metadata": {}
        },
        {
          "output_type": "stream",
          "name": "stdout",
          "text": [
            "\n",
            "\n",
            "Final Response:\n"
          ]
        },
        {
          "output_type": "display_data",
          "data": {
            "text/plain": [
              "<IPython.core.display.Markdown object>"
            ],
            "text/markdown": "- Final Decision: APPROVED\n- Decision Reasoning: The patient's symptoms, high Wells score, and positive D-dimer test align with guidelines indicating the need for a CT Chest to investigate suspected pulmonary embolism.\n- Care recommendation or alternative steps: Proceed with CT pulmonary angiography (CTPA) and initiate anticoagulation therapy to manage the suspected pulmonary embolism."
          },
          "metadata": {}
        },
        {
          "output_type": "stream",
          "name": "stdout",
          "text": [
            "32.8 s ± 3.32 s per loop (mean ± std. dev. of 3 runs, 1 loop each)\n"
          ]
        }
      ]
    }
  ],
  "metadata": {
    "colab": {
      "provenance": [],
      "include_colab_link": true
    },
    "language_info": {
      "name": "python"
    },
    "kernelspec": {
      "name": "python3",
      "display_name": "Python 3"
    }
  },
  "nbformat": 4,
  "nbformat_minor": 5
}